{
 "cells": [
  {
   "cell_type": "markdown",
   "metadata": {},
   "source": [
    "<div style=\"border: 5px solid purple; padding: 15px; margin: 5px\">\n",
    "<b> Reviewer's comment 2</b>\n",
    "    \n",
    "Thank you very much for sending a new version!  I've left a few comments titled as **Reviewer's comment 2**, but there are no issues that need your attention. I hope you enjoyed this project.\n",
    "\n",
    "Your project has passed code review. Congratulations 😊\n",
    "\n",
    "    \n",
    "Good luck! 😊 \n",
    "      \n",
    "</div>"
   ]
  },
  {
   "cell_type": "markdown",
   "metadata": {},
   "source": [
    "<div style=\"border: 5px solid purple; padding: 15px; margin: 5px\">\n",
    "<b> Reviewer's comment</b>\n",
    "    \n",
    "Hi Byron! My name is Svetlana. Congratulations on submitting Computer Vision project! 🎉\n",
    "    \n",
    "\n",
    "Before we start, I want to pay your attention to the color marking:\n",
    "    \n",
    "  \n",
    "    \n",
    "<div style=\"border: 5px solid green; padding: 15px; margin: 5px\">\n",
    "\n",
    "Great solutions and ideas that can and should be used in the future are in green comments. Some of them are: \n",
    "    \n",
    "    \n",
    "- You have successfully displayed and analyzed age distribution, great!\n",
    "    \n",
    "    \n",
    "- It's also a good idea to display several photos, since we need to understand what kind of data we have;\n",
    "\n",
    "\n",
    "- You have successfully defined train and test functions; \n",
    "    \n",
    "\n",
    "- Built a model; \n",
    "\n",
    "\n",
    "- Analyzed the result in the final conclusion, which is also important! The analysis usually helps us to identify the area for further improvement.\n",
    "\n",
    "</div>\n",
    "    \n",
    "<div style=\"border: 5px solid gold; padding: 15px; margin: 5px\">\n",
    "<b> Reviewer's comment </b>\n",
    "\n",
    "Yellow color indicates what should be optimized. This is not necessary, but it will be great if you make changes to this project. I've left several recommendations throughout the project. Please take a look.\n",
    " \n",
    "</div>\n",
    "<div style=\"border: 5px solid red; padding: 15px; margin: 5px\">\n",
    "<b> Reviewer's comment </b>\n",
    "\n",
    "Issues that must be corrected to achieve accurate results are indicated in red comments. Please note that the project cannot be accepted until these issues are resolved. More specifically: would you please make sure you use the correct metric for regression task? \n",
    "</div>        \n",
    "<hr>\n",
    "    \n",
    "<font color='dodgerblue'>**To sum up:**</font> thank you very much for submitting the project! You have successfully built a model and recieved significant results, great job! However, several issues need your attention. Would you please take a look at my comments? \n",
    "    \n",
    "<hr>\n",
    "    \n",
    "Please use some color other than those listed to highlight answers to my comments.\n",
    "I would also ask you **not to change, move or delete my comments** to make it easier for me to navigate during the next review.\n",
    "    \n",
    "<hr>\n",
    "   \n",
    "✍️ Here's a nice playlist [Introduction to\n",
    "Deep Learning](https://www.youtube.com/playlist?list=PLtBw6njQRU-rwp5__7C0oIVt26ZgjG9NI) on youtube that you may find helpful and interesting. This is another interesting [Computer Vision Playlist](https://www.youtube.com/playlist?list=PLf7L7Kg8_FNxHATtLwDceyh72QQL9pvpQ).     \n",
    "    \n",
    "    \n",
    "Here's a link to [AI for beginners](https://github.com/microsoft/ai-for-beginners) course by Microsoft. \n",
    "    \n",
    "<hr>\n",
    "    \n",
    "📌 Please feel free to schedule a 1:1 sessions with our tutors or TAs [here](https://calendly.com/tripleten-ds-experts-team), join daily coworking sessions, or ask questions on TripleTen Hub if you need assistance 😉 \n",
    "</div>"
   ]
  },
  {
   "cell_type": "markdown",
   "metadata": {
    "deletable": false,
    "editable": false,
    "tags": [
     "df89053c-55da-4946-b602-c3baf619b53f"
    ]
   },
   "source": [
    "## Initialization"
   ]
  },
  {
   "cell_type": "markdown",
   "metadata": {},
   "source": [
    "#### Title:\n",
    "Sprint 15 Project\n",
    "Computer Vision"
   ]
  },
  {
   "cell_type": "markdown",
   "metadata": {},
   "source": [
    "#### Summary:\n",
    "This project involves computer vision and the use of neural networks in order to solve a regression task\n",
    "for the Good Seed company.  In this project I will use ResNet 50 and an Image Data Generator in order to create a neural network model that can predict customers' real ages based on customer images/ photos.  This project also includes an EDA section that consists of histograms that display the distribution of customers according age and a section in which I verify the accuracy of customer ages based on photos from the dataset.  "
   ]
  },
  {
   "cell_type": "markdown",
   "metadata": {},
   "source": [
    "#### Project Description:\n",
    "The national supermarket chain Good Seed is exploring how Data Science can help ensure compliance with regulations related to the sale of over-the-counter cough syrup, which can contain ingredients that are regulated due to potential misuse. Specifically, they want to prevent sales to individuals under the legal purchase age.\n",
    "Your task is to evaluate whether a computer vision model can help automate age verification at checkout. As you take on this task, consider the following:\n",
    "● Checkout areas are equipped with cameras that capture images when someone attempts to purchase OTC cough syrup.\n",
    "● Computer vision techniques can be used to estimate a person’s age from these images.\n",
    "● Your job is to build and evaluate a model that predicts age from photos to assist in OTC medication compliance.\n",
    "To help you get started, you’ll be provided with a dataset of facial images annotated with age labels."
   ]
  },
  {
   "cell_type": "markdown",
   "metadata": {},
   "source": [
    "#### Note To Reviewer:\n",
    "The original project involves age verification for alcohol sales, but for personal reasons I requested a \n",
    "project task that does not involve the use of alcohol sales.  My apologies for the incoveniece."
   ]
  },
  {
   "cell_type": "markdown",
   "metadata": {
    "editable": false,
    "tags": [
     "df89053c-55da-4946-b602-c3baf619b53f"
    ]
   },
   "source": [
    "## Initialization"
   ]
  },
  {
   "cell_type": "code",
   "execution_count": null,
   "metadata": {},
   "outputs": [],
   "source": [
    "#Import the necessary libraries.\n",
    "import pandas as pd\n",
    "\n",
    "import tensorflow as tf\n",
    "\n",
    "from tensorflow.keras.preprocessing.image import ImageDataGenerator\n",
    "from tensorflow.keras.applications.resnet import ResNet50\n",
    "from tensorflow.keras.models import Sequential\n",
    "from tensorflow.keras.layers import GlobalAveragePooling2D, Dense, Dropout, Flatten\n",
    "from tensorflow.keras.optimizers import Adam \n",
    "from PIL import Image\n",
    "\n",
    "import matplotlib.pyplot as plt \n",
    "\n",
    "import seaborn as sns \n",
    "\n",
    "import os"
   ]
  },
  {
   "cell_type": "markdown",
   "metadata": {},
   "source": [
    "## Load Data"
   ]
  },
  {
   "cell_type": "markdown",
   "metadata": {},
   "source": [
    "The dataset is stored in the `/datasets/faces/` folder, there you can find\n",
    "- The `final_files` folder with 7.6k photos\n",
    "- The `labels.csv` file with labels, with two columns: `file_name` and `real_age`\n",
    "\n",
    "Given the fact that the number of image files is rather high, it is advisable to avoid reading them all at once, which would greatly consume computational resources. We recommend you build a generator with the ImageDataGenerator generator. This method was explained in Chapter 3, Lesson 7 of this course.\n",
    "\n",
    "The label file can be loaded as an usual CSV file."
   ]
  },
  {
   "cell_type": "code",
   "execution_count": null,
   "metadata": {},
   "outputs": [],
   "source": [
    "#Use pd.read_csv() in order to read the csv file and create the labels_df\n",
    "#dataframe.\n",
    "labels_df = pd.read_csv('/datasets/faces/labels.csv')"
   ]
  },
  {
   "cell_type": "markdown",
   "metadata": {},
   "source": [
    "### Findings"
   ]
  },
  {
   "cell_type": "code",
   "execution_count": null,
   "metadata": {},
   "outputs": [],
   "source": [
    "labels_df.to_csv('the_labels.csv')"
   ]
  },
  {
   "cell_type": "code",
   "execution_count": null,
   "metadata": {},
   "outputs": [],
   "source": [
    "#Use the head() method in order to print the first five rows of the\n",
    "#labels_df dataframe.\n",
    "labels_df.head()"
   ]
  },
  {
   "cell_type": "markdown",
   "metadata": {},
   "source": [
    "Code Result:\n",
    "It appears that the columns and rows of the labels_df dataframe have appropriate entries.\n",
    "There is no need to correct any texts in the rows and columns."
   ]
  },
  {
   "cell_type": "code",
   "execution_count": null,
   "metadata": {},
   "outputs": [],
   "source": [
    "#Use the isna() and sum() methods in order to check for missing values\n",
    "#in the labels_df dataframe.\n",
    "labels_df.isna().sum()"
   ]
  },
  {
   "cell_type": "markdown",
   "metadata": {},
   "source": [
    "Code Result:\n",
    "It appears that there are no missing values noted in the columns of the\n",
    "labels_df dataframe."
   ]
  },
  {
   "cell_type": "code",
   "execution_count": null,
   "metadata": {},
   "outputs": [],
   "source": [
    "#Use the duplicated() and sum() methods in order to check for \n",
    "#duplicate values in the labels_df dataframe.\n",
    "labels_df.duplicated().sum()"
   ]
  },
  {
   "cell_type": "code",
   "execution_count": null,
   "metadata": {},
   "outputs": [],
   "source": [
    "#Use the .shape method in order to check the dimmensions of the labels_df dataframe.\n",
    "labels_df.shape"
   ]
  },
  {
   "cell_type": "markdown",
   "metadata": {},
   "source": [
    "Code Result:\n",
    "The labels_df dataframe contains 7,591 rows (customer entries) and 2 columns."
   ]
  },
  {
   "cell_type": "code",
   "execution_count": null,
   "metadata": {},
   "outputs": [],
   "source": [
    "#Use the info() method in order to check the data types of the columns of the labels_df dataframe.\n",
    "labels_df.info()"
   ]
  },
  {
   "cell_type": "markdown",
   "metadata": {},
   "source": [
    "Code Result:\n",
    "It appears that the columns of the labels_df dataframe have the appropriate data types."
   ]
  },
  {
   "cell_type": "code",
   "execution_count": null,
   "metadata": {},
   "outputs": [],
   "source": [
    "#Use the describe() method in order to check the min and and max values of the\n",
    "#real_age column of the labels_df dataframe.\n",
    "labels_df.describe()"
   ]
  },
  {
   "cell_type": "markdown",
   "metadata": {},
   "source": [
    "Code Result:\n",
    "The minimum value in the real_age column of the labels_df dataframe is: 1,the maximum value of the real_age column is: 100, and the median value of the real_age column is: 29.  This finding indicates that the youngest customer age in the dataset is: 1 years old, the oldest customer age in the dataset is: 100 years olds, and the median or average age of all customers in the dataset is: 29 years old."
   ]
  },
  {
   "cell_type": "markdown",
   "metadata": {},
   "source": [
    "## EDA"
   ]
  },
  {
   "cell_type": "markdown",
   "metadata": {},
   "source": [
    "#### Real Age Histogram"
   ]
  },
  {
   "cell_type": "code",
   "execution_count": null,
   "metadata": {},
   "outputs": [],
   "source": [
    "#Use sns.histplot() in order to create a histogram of the distribution of real ages among all customers.\n",
    "sns.histplot(labels_df['real_age'])\n",
    "\n",
    "#Use plt.xlabel() in order to label the x axis of the histogram.\n",
    "plt.xlabel(\"Real Age (Years)\") \n",
    "\n",
    "#Use plt.ylabel() in order to label the y axis of the histogram.\n",
    "plt.ylabel(\"Number Of Photos\")\n",
    "\n",
    "#Use plt.title() in order to create a title for the histogram.\n",
    "plt.title(\"Histogram Of Distribution Of Real Ages Among Customers\")\n",
    "\n",
    "#Use plt.tight_layout() in order to adjust subplot parameters in order to provide a tight\n",
    "#layout.\n",
    "plt.tight_layout\n",
    "\n",
    "#Use plt.show() in order to display the chart.\n",
    "plt.show()"
   ]
  },
  {
   "cell_type": "markdown",
   "metadata": {},
   "source": [
    "<div style=\"border: 5px solid green; padding: 10px; margin: 5px\">\n",
    "<b>   Reviewer's comment 2 </b>\n",
    "    \n",
    "Good! \n",
    "\n",
    "</div>\n",
    "<div style=\"border: 5px solid green; padding: 10px; margin: 5px\">\n",
    "<b>   Reviewer's comment </b>\n",
    "    \n",
    "Nice chart 👍 \n",
    "    \n",
    "</div>\n",
    "<div style=\"border: 5px solid gold; padding: 10px; margin: 5px\">\n",
    "<b>   Reviewer's comment </b>\n",
    "    \n",
    "However, I would change `Count` to `Number of photos`, for instance.\n",
    "    \n",
    "</div>"
   ]
  },
  {
   "cell_type": "markdown",
   "metadata": {},
   "source": [
    "Histogram Result:\n",
    "According to the histogram, it appears that the customer age range with the highest count is: approximately 28-30 years old with a number of photos count of: approximately 580 photos.  The customer age range with the lowest number of photos count is: approximately 98-100 years old with a count of: approximately 5 photos."
   ]
  },
  {
   "cell_type": "code",
   "execution_count": null,
   "metadata": {},
   "outputs": [],
   "source": [
    "#### Age Group Distribution Countplot"
   ]
  },
  {
   "cell_type": "code",
   "execution_count": null,
   "metadata": {},
   "outputs": [],
   "source": [
    "#Specify the bins for the countplot.\n",
    "bins = [0, 50, 75, 100]\n",
    "#Specify the age group ranges for the countplot.\n",
    "labels = ['1-50', '51-75', '76-100'] \n",
    "\n",
    "#Use pd.cut() in order to create a column that consists of entries with discrete bin values.s\n",
    "labels_df['age_group'] = pd.cut(labels_df['real_age'], bins=bins, labels=labels, right=True)\n",
    "\n",
    "#Use sns.countplot() in order to create a countplot for the data.\n",
    "sns.countplot(data=labels_df, x='age_group', order=labels)\n",
    "\n",
    "#Use plt.xlabel() in order to label the x axis of the countplot.\n",
    "plt.xlabel(\"Age Group (Years)\")\n",
    "\n",
    "#Use plt.xlabel() in order to label the y axis of the countplot.\n",
    "plt.ylabel(\"Number Of Photos\")\n",
    "\n",
    "#Use plt.title() in order to create a title for the countplot.\n",
    "plt.title(\"Age Group Distribution Countplot\")\n",
    "\n",
    "#Use plt.tight_layout() in order to adjust the subplot parameters in order to provide\n",
    "#a tight layout for the countplot.\n",
    "plt.tight_layout()\n",
    "\n",
    "#Use plt.show() in order to display the countplot.\n",
    "plt.show()"
   ]
  },
  {
   "cell_type": "markdown",
   "metadata": {},
   "source": [
    "Countplot Results:\n",
    "It appears that customer age group with the highest count is: 1-50 years old, with a number of photos count of: approximately 6,800 photos.\n",
    "The age group with the second highest count is: 51-75 years, with a number  of\n",
    "photos count of: approximately 800 photos.  The customer age group with the lowest number of photos count is: 76-100, with a count of: approximately 100 photos."
   ]
  },
  {
   "cell_type": "markdown",
   "metadata": {},
   "source": [
    "#### Image/ Photo Verification"
   ]
  },
  {
   "cell_type": "markdown",
   "metadata": {},
   "source": [
    "Rationale:\n",
    "In the cells below, I will print the photos of customers with: minimum (youngest), median (average), and maximum s(oldest) age values in order to ensure that the images have match the age label."
   ]
  },
  {
   "cell_type": "markdown",
   "metadata": {},
   "source": [
    "##### Minimum Age Customer Image/ Photo Verification"
   ]
  },
  {
   "cell_type": "code",
   "execution_count": null,
   "metadata": {},
   "outputs": [],
   "source": [
    "# Use the loc() and idxmin() functions in order index the row with the minimum age value.\n",
    "min_age_row = labels_df.loc[labels_df['real_age'].idxmin()]\n",
    "#Create a variable that stores the filename for the customer with the minimum age value.\n",
    "min_age_filename = min_age_row['file_name']\n",
    "\n",
    "#Use os.path.join() in order to create a full file path by joining the directory folder path with the \n",
    "#customer file name.\n",
    "min_image_path = os.path.join('/datasets/faces/final_files/', min_age_filename)\n",
    "\n",
    "#Use Image.open() in order to load the image.\n",
    "min_image = Image.open(min_image_path)\n",
    "\n",
    "#Use plt.imshow() in order to display the image.\n",
    "plt.imshow(min_image)\n",
    "\n",
    "#Use plt.title() in order to give the image an appropriate title.\n",
    "plt.title(f\"Minimum age: {min_age_row['real_age']} years\")\n",
    "\n",
    "#Use plt.axis() in order to set the axis as 'off' in order to not display the axes.\n",
    "plt.axis('off')  \n",
    "\n",
    "#Use plt.show() in order to display the image without the axes.\n",
    "plt.show()"
   ]
  },
  {
   "cell_type": "markdown",
   "metadata": {},
   "source": [
    "Code Result:\n",
    "It appears that the customer's age entry is appropriated based on the image displayed."
   ]
  },
  {
   "cell_type": "markdown",
   "metadata": {},
   "source": [
    "##### Median Age Customer Image/ Photo Verification"
   ]
  },
  {
   "cell_type": "code",
   "execution_count": null,
   "metadata": {},
   "outputs": [],
   "source": [
    "#Use the median() method in order to get the median age for all customers.\n",
    "median_age = labels_df['real_age'].median()   \n",
    "#Use conditional filtering and the .index method in order to get the index\n",
    "#of customers with the median age.\n",
    "median_indices = labels_df[labels_df['real_age'] == median_age].index \n",
    "#Use the .loc method in order to get the rows from the dataset with age entries equal to the\n",
    "#calulated median age.\n",
    "median_age_row = labels_df.loc[median_indices] \n",
    "#Use the .iloc method in order to get the first image from the median_age_row column.\n",
    "median_age_filename = median_age_row['file_name'].iloc[0] \n",
    "\n",
    "#Use os.path.join() in order to create a full file path by joining the directory folder path with the \n",
    "#customer file name. \n",
    "image_path_median = os.path.join('/datasets/faces/final_files', median_age_filename) \n",
    "\n",
    "#Use Image.open() in order to load the image. \n",
    "image_median = Image.open(image_path_median)\n",
    "\n",
    "#Use plt.imshow() in order to display the image. \n",
    "plt.imshow(image_median)\n",
    "\n",
    "#Use plt.title() in order to give the image an appropriate title. \n",
    "plt.title(f\"Median Age: {median_age_row['real_age'].iloc[0]} years\")\n",
    "\n",
    "#Use plt.axis() in order to set the axis as 'off' in order to not display the axes. \n",
    "plt.axis('off')\n",
    "\n",
    "#Use plt.show() in order to display the image without the axes.\n",
    "plt.show()"
   ]
  },
  {
   "cell_type": "markdown",
   "metadata": {},
   "source": [
    "Code Result:\n",
    "It appears that the customer's age entry is appropriated based on the image displayed."
   ]
  },
  {
   "cell_type": "markdown",
   "metadata": {},
   "source": [
    "<div style=\"border: 5px solid gold; padding: 10px; margin: 5px\">\n",
    "<b>   Reviewer's comment </b>\n",
    "    \n",
    "\n",
    "`subplots` will make it look better. \n",
    "\n",
    "</div>"
   ]
  },
  {
   "cell_type": "markdown",
   "metadata": {},
   "source": [
    "##### Maximum Age Customer Image/ Photo Verification"
   ]
  },
  {
   "cell_type": "code",
   "execution_count": null,
   "metadata": {},
   "outputs": [],
   "source": [
    "# Use the loc() and idxmax() functions in order index the row with the maximum age value.\n",
    "max_age_row = labels_df.loc[labels_df['real_age'].idxmax()]\n",
    "#Create a variable that stores the filename for the customer with the maximum age value.\n",
    "max_age_filename = max_age_row['file_name'] \n",
    "\n",
    "#Use os.path.join() in order to create a full file path by joining the directory folder path with the \n",
    "#customer file name. \n",
    "image_path_max = os.path.join('/datasets/faces/final_files/', max_age_filename)\n",
    "\n",
    "#Use Image.open() in order to load the image. \n",
    "image_max = Image.open(image_path_max)\n",
    "\n",
    "#Use plt.imshow() in order to display the image. \n",
    "plt.imshow(image_max)\n",
    "\n",
    "#Use plt.title() in order to give the image an appropriate title. \n",
    "plt.title(f\"Maximum age: {max_age_row['real_age']} years\")\n",
    "\n",
    "#Use plt.axis() in order to set the axis as 'off' in order to not display the axes. \n",
    "plt.axis('off') \n",
    "#Use plt.show() in order to display the image without the axes.\n",
    "plt.show()"
   ]
  },
  {
   "cell_type": "markdown",
   "metadata": {},
   "source": [
    "Code Result:\n",
    "It appears that the customer's age entry is appropriated based on the image displayed."
   ]
  },
  {
   "cell_type": "markdown",
   "metadata": {},
   "source": [
    "## Modelling"
   ]
  },
  {
   "cell_type": "markdown",
   "metadata": {},
   "source": [
    "Define the necessary functions to train your model on the GPU platform and build a single script containing all of them along with the initialization section.\n",
    "\n",
    "To make this task easier, you can define them in this notebook and run a ready code in the next section to automatically compose the script.\n",
    "\n",
    "The definitions below will be checked by project reviewers as well, so that they can understand how you built the model."
   ]
  },
  {
   "cell_type": "code",
   "execution_count": null,
   "metadata": {},
   "outputs": [],
   "source": [
    "#Create a random seed value.\n",
    "seed_value = 12345 \n",
    "\n",
    "#Use np.random.seed() in order to create a random seed.\n",
    "seed = np.random.seed(seed_value)"
   ]
  },
  {
   "cell_type": "code",
   "execution_count": null,
   "metadata": {},
   "outputs": [],
   "source": [
    "#Create a function that loads the training set.\n",
    "def load_train(path):\n",
    "    \n",
    "    \"\"\"\n",
    "    #This function uses the ImageDataGenerator() function in order to load the training set, \n",
    "    #rescale the images in the training set, and split the data.\n",
    "    \"\"\"\n",
    "    #Use pd.read_csv() in order to create a path to create a dataframe for the labels.csv file.\n",
    "    labels_split_df = pd.read_csv(path + 'labels.csv')\n",
    "    \n",
    "    #Use ImageDataGenerator() in order to create an image data generator in order\n",
    "    #to upload the image files, split the data, and rescale the images.\n",
    "    datagen = ImageDataGenerator(validation_split=0.25, rescale=1./255)\n",
    "    \n",
    "    #Use the datagen.flow_from_dataframe() method in order to create the training set.\n",
    "    #Set the class_mode parameter to 'raw' in order to make the data compatible with a \n",
    "    #regression task.\n",
    "    train_gen_flow = datagen.flow_from_dataframe(\n",
    "        dataframe=labels_split_df,\n",
    "        directory=path + 'final_files/',\n",
    "        x_col='file_name',\n",
    "        y_col='real_age',\n",
    "        target_size=(150, 150),\n",
    "        batch_size=16,\n",
    "        class_mode='raw',\n",
    "        subset='training',\n",
    "        seed=seed)\n",
    "\n",
    "    return train_gen_flow"
   ]
  },
  {
   "cell_type": "code",
   "execution_count": null,
   "metadata": {},
   "outputs": [],
   "source": [
    "#Use the previously created load_train() function in order to create the training set.\n",
    "train = load_train('/datasets/faces/')"
   ]
  },
  {
   "cell_type": "markdown",
   "metadata": {},
   "source": [
    "Code Result:\n",
    "The training set has been successfully created and the images for the training set have been\n",
    "successfully uploaded."
   ]
  },
  {
   "cell_type": "code",
   "execution_count": null,
   "metadata": {},
   "outputs": [],
   "source": [
    "#Create a function that loads the test set. \n",
    "def load_test(path):\n",
    "    \n",
    "    \"\"\"\n",
    "    #This function uses the ImageDataGenerator() function in order to load the test set, \n",
    "    #rescale the images in the test set, and split the data.\n",
    "    \"\"\"\n",
    "    \n",
    "    #Use pd.read_csv() in order to create a path to create a dataframe for the labels.csv file.\n",
    "    labels_split_df = pd.read_csv(path + 'labels.csv')\n",
    "    \n",
    "    #Use ImageDataGenerator() in order to create an image data generator in order\n",
    "    #to upload the image files, split the data, and rescale the images. \n",
    "    datagen = ImageDataGenerator(validation_split=0.25, rescale=1./255)\n",
    "    \n",
    "    \n",
    "    #Use the datagen.flow_from_dataframe() method in order to create the test set.\n",
    "    #Set the class_mode parameter to 'raw' in order to make the data compatible with a \n",
    "    #regression task.\n",
    "    test_gen_flow = datagen.flow_from_dataframe(\n",
    "        dataframe=labels_split_df,\n",
    "        directory=path + 'final_files/',\n",
    "        x_col='file_name',\n",
    "        y_col='real_age',\n",
    "        target_size=(150, 150),\n",
    "        batch_size=16,\n",
    "        class_mode='raw',\n",
    "        subset='validation',\n",
    "        shuffle=False,\n",
    "        seed=seed)\n",
    "\n",
    "    return test_gen_flow"
   ]
  },
  {
   "cell_type": "markdown",
   "metadata": {},
   "source": [
    "<div style=\"border: 5px solid green; padding: 10px; margin: 5px\">\n",
    "<b>   Reviewer's comment </b>\n",
    "    \n",
    "Yes, augmentation should help us here. It's great that you specify the `subset` parameter values. If we don't do this, the model will be trained and evaluated on the same data. \n",
    "    \n",
    "\n",
    "The `class_mode` value is also correct. \n",
    "\n",
    "</div>\n",
    "<div style=\"border: 5px solid gold; padding: 10px; margin: 5px\">\n",
    "<b>   Reviewer's comment </b>\n",
    "    \n",
    "    \n",
    "I recommend using some variable for `seed`. \n",
    "\n",
    "</div>"
   ]
  },
  {
   "cell_type": "code",
   "execution_count": null,
   "metadata": {},
   "outputs": [],
   "source": [
    "#Use the previously created load_test() function in order to create the test set.\n",
    "test = load_test('/datasets/faces/')"
   ]
  },
  {
   "cell_type": "markdown",
   "metadata": {},
   "source": [
    "Code Result:\n",
    "The test set has been successfully created and the images for the test set have been\n",
    "successfully uploaded."
   ]
  },
  {
   "cell_type": "code",
   "execution_count": null,
   "metadata": {},
   "outputs": [],
   "source": [
    "#Create a function the creates the model.\n",
    "def create_model(input_shape):\n",
    "    \n",
    "    \"\"\"\n",
    "    This function will create a ResNet model for making predictions on this particular\n",
    "    regression task. The version of ResNet that this model will be using will be: ResNet50.\n",
    "    \"\"\"\n",
    "    \n",
    "    #Use ResNet50()in order to create the backbone for model. Set the \n",
    "    #include_top parameter to False in order to be able to customize the pooling \n",
    "    #layer and the output neuron.\n",
    "    backbone = ResNet50(\n",
    "        input_shape=input_shape, weights='imagenet', include_top=False\n",
    "    )\n",
    "    \n",
    "    #Use the Sequential() method in order to initialize the model.\n",
    "    model = Sequential()\n",
    "    \n",
    "    #Use the add() method in order to add the ResNet50() backbone to the model.\n",
    "    model.add(backbone)\n",
    "    \n",
    "    #Use the add() and GlobalAveragePooling2D() in order to add average pooling\n",
    "    #layer to the model in order to reduce overfitting.\n",
    "    model.add(GlobalAveragePooling2D())\n",
    "    \n",
    "    #Use the add() and Dense() methods in order to add a final Dense or fully connected\n",
    "    #neural layer that will serve as the final outplut layer for the model.  Set the activation\n",
    "    #function to 'linear' in order to solve the regression task.\n",
    "    model.add(Dense(1, activation='relu'))\n",
    "\n",
    "\n",
    "    return model"
   ]
  },
  {
   "cell_type": "code",
   "execution_count": null,
   "metadata": {},
   "outputs": [],
   "source": [
    "#Use the create_model() function in order to create the model. Set the input\n",
    "#shape for the model to: 150 * 150 pixels with a depth of 3.\n",
    "model = create_model((150, 150, 3))"
   ]
  },
  {
   "cell_type": "markdown",
   "metadata": {},
   "source": [
    "Code Result:\n",
    "The model was successfully created."
   ]
  },
  {
   "cell_type": "code",
   "execution_count": null,
   "metadata": {},
   "outputs": [],
   "source": [
    "#Create a function that trains the model, makes predictions using the model, and prints out the model's results.  \n",
    "#Set the epochs parameter to: 20, the steps_per_epoch paramter to: None, and the validation_steps parameter to: None.\n",
    "def train_model(model, train_generator, test_generator, epochs=20,\n",
    "                steps_per_epoch=None, validation_steps=None):\n",
    "\n",
    "    \"\"\"\n",
    "    This function trains the model using the Adam algorithim as an optimizer.  The model also \n",
    "    uses mean squared error as the loss function for the optimizer and uses accuracy as the \n",
    "    evaluation metric.\n",
    "    \"\"\"\n",
    "    \n",
    "    #Set the optimizer to Adam() in order to use the Adam algorithim for hyperparameter tuning.\n",
    "    optimizer = Adam()\n",
    "    \n",
    "    #Use the compile() method in order initializes the model's optimizer, loss function and\n",
    "    #evaluation metric.\n",
    "    model.compile(optimizer=optimizer,\n",
    "                 loss='mean_squared_error', \n",
    "                 metrics='mean_squared_error')\n",
    "    \n",
    "    #Ensure that the steps_per_epoch is equal to the length of the training set if\n",
    "    #the steps_per_epoch parameter is set to None.\n",
    "    if steps_per_epoch is None:\n",
    "        steps_per_epoch = len(train_generator)\n",
    "    \n",
    "    #Ensure that the validation_steps is equal to the length of the test set if\n",
    "    #the validation_steps parameter is set to None.\n",
    "    if validation_steps is None:\n",
    "        validation_steps = len(test_generator)\n",
    "\n",
    "    \n",
    "    #Use the fit() method in order to customize the model's training process.  Set\n",
    "    #the verbose parameter to 2 in order to display a full prinout of the model's results\n",
    "    #after training.\n",
    "    model.fit(train_generator,\n",
    "              validation_data=test_generator,\n",
    "              epochs=epochs,\n",
    "              steps_per_epoch=steps_per_epoch,\n",
    "              validation_steps=validation_steps,\n",
    "              verbose=2,\n",
    "              shuffle=True)\n",
    "           \n",
    "    return model"
   ]
  },
  {
   "cell_type": "markdown",
   "metadata": {},
   "source": [
    "<div style=\"border: 5px solid green; padding: 10px; margin: 5px\">\n",
    "<b>   Reviewer's comment 2 </b>\n",
    "    \n",
    "Good! \n",
    "\n",
    "</div>"
   ]
  },
  {
   "cell_type": "markdown",
   "metadata": {},
   "source": [
    "<div style=\"border: 5px solid green; padding: 15px; margin: 5px\">\n",
    "<b>   Reviewer's comment </b>\n",
    "\n",
    "\n",
    "Correct! \n",
    "    \n",
    "    \n",
    "- `Dense(1, activation='relu')` is appropriate, since you are predicting a single value. Using 1 neuron makes sense here.\n",
    "    \n",
    "    \n",
    "    \n",
    "- Adam optimizer with the default learning rate is a solid and commonly used choice, well done. \n",
    "\n",
    "\n",
    "\n",
    "</div>\n",
    "<div style=\"border: 5px solid red; padding: 10px; margin: 5px\">\n",
    "<b>  Reviewer's comment </b>\n",
    "    \n",
    "\n",
    "Is metric correct? We have a regression task. </div>"
   ]
  },
  {
   "cell_type": "markdown",
   "metadata": {},
   "source": [
    "#### Note To Reviewer:\n",
    "I just corrected this issue.  Thank you for pointing it out!"
   ]
  },
  {
   "cell_type": "code",
   "execution_count": null,
   "metadata": {},
   "outputs": [],
   "source": [
    "#Use the fit() method in order to train the model, make predicitions using the model\n",
    "#and print the model's results.\n",
    "trained_model = train_model(model, train, test)"
   ]
  },
  {
   "cell_type": "markdown",
   "metadata": {},
   "source": [
    "#### ResNet 50 Model Results:\n",
    "* Epoch 1/20\n",
    "  356/356 - 35s - loss: 95.3532 - mae: 7.4339 - val_loss: 124.3362 - val_mae: 8.4921\n",
    "* Epoch 2/20\n",
    "  356/356 - 35s - loss: 76.8372 - mae: 6.6707 - val_loss: 127.6357 - val_mae: 8.6035\n",
    "* Epoch 3/20\n",
    "  356/356 - 35s - loss: 69.9428 - mae: 6.3992 - val_loss: 91.1531 - val_mae: 7.4454\n",
    "* Epoch 4/20\n",
    "  356/356 - 35s - loss: 64.4249 - mae: 6.1407 - val_loss: 124.0287 - val_mae: 8.3481\n",
    "* Epoch 5/20\n",
    "  356/356 - 35s - loss: 52.8486 - mae: 5.5913 - val_loss: 109.1004 - val_mae: 8.2192\n",
    "* Epoch 6/20\n",
    "  356/356 - 35s - loss: 46.3094 - mae: 5.2223 - val_loss: 85.1038 - val_mae: 7.0332\n",
    "* Epoch 7/20\n",
    "  356/356 - 35s - loss: 38.2617 - mae: 4.7951 - val_loss: 92.0900 - val_mae: 7.3359\n",
    "* Epoch 8/20\n",
    "  356/356 - 35s - loss: 37.4804 - mae: 4.7402 - val_loss: 80.0016 - val_mae: 6.7239\n",
    "* Epoch 9/20\n",
    "  356/356 - 35s - loss: 33.5237 - mae: 4.4271 - val_loss: 83.2579 - val_mae: 6.8529\n",
    "* Epoch 10/20\n",
    "  356/356 - 35s - loss: 28.5170 - mae: 4.1411 - val_loss: 83.5056 - val_mae: 6.9629\n",
    "* Epoch 11/20\n",
    "  356/356 - 35s - loss: 27.0142 - mae: 3.9700 - val_loss: 92.1290 - val_mae: 7.1866\n",
    "* Epoch 12/20\n",
    "  356/356 - 35s - loss: 27.4564 - mae: 4.0428 - val_loss: 185.6307 - val_mae: 11.4591\n",
    "* Epoch 13/20\n",
    "  356/356 - 35s - loss: 23.7961 - mae: 3.7407 - val_loss: 92.3429 - val_mae: 7.2467\n",
    "* Epoch 14/20\n",
    "  356/356 - 35s - loss: 24.6167 - mae: 3.8116 - val_loss: 92.4542 - val_mae: 7.1401\n",
    "* Epoch 15/20\n",
    "  356/356 - 35s - loss: 22.2604 - mae: 3.6746 - val_loss: 82.5822 - val_mae: 6.7841\n",
    "* Epoch 16/20\n",
    "  356/356 - 35s - loss: 20.1899 - mae: 3.4430 - val_loss: 86.3830 - val_mae: 6.8304\n",
    "* Epoch 17/20\n",
    "  356/356 - 35s - loss: 17.3425 - mae: 3.2205 - val_loss: 78.4369 - val_mae: 6.6419\n",
    "* Epoch 18/20\n",
    "  356/356 - 35s - loss: 16.5249 - mae: 3.1295 - val_loss: 81.7731 - val_mae: 6.7226\n",
    "* Epoch 19/20\n",
    "  356/356 - 35s - loss: 16.6140 - mae: 3.1421 - val_loss: 80.9727 - val_mae: 6.9908\n",
    "* Epoch 20/20\n",
    "  356/356 - 35s - loss: 17.0187 - mae: 3.1785 - val_loss: 93.4115 - val_mae: 7.6512"
   ]
  },
  {
   "cell_type": "markdown",
   "metadata": {},
   "source": [
    "<div style=\"border: 5px solid gold; padding: 15px; margin: 5px\">\n",
    "<b> Reviewer's comment</b>\n",
    "   \n",
    "\n",
    "Althoug this part is not necessary, we should still make our projects readable. You can use Markdown cells for your code and results: \n",
    "\n",
    "    ```python\n",
    "    \n",
    "    # code\n",
    "    # or the output\n",
    "    \n",
    "    ```\n",
    "    \n",
    "Example:\n",
    "    \n",
    "</div>\n",
    "\n",
    "\n",
    "```python\n",
    "\n",
    "import pandas as pd\n",
    "from tensorflow.keras.preprocessing.image import ImageDataGenerator\n",
    "from tensorflow.keras.applications.resnet import ResNet50\n",
    "\n",
    "\n",
    "...\n",
    "\n",
    "\n",
    "\n",
    "Epoch 1/20\n",
    "356/356 - 35s - loss: 95.3532 - mae: 7.4339 - val_loss: 124.3362 - val_mae: 8.4921              \n",
    "```"
   ]
  },
  {
   "cell_type": "markdown",
   "metadata": {},
   "source": [
    "#### ResNet 50 Model Conclusion:\n",
    "According to the results of the model results, the model learns very well on the training data because the MAE on the training set drops from 7.43 to 3.17 and the training loss value drops from 95.35 to 17.02 in 20 epochs.  The validation set results\n",
    "on the other hand only shows a modest improvement in the MAE and shows a bit of erratic behavior in the validation loss values. The validiation set MAE only drop from 8.49 to the 6.64-7.65 range and flucuates throughout the epochs.  The validation loss overall decreased from 124.33 to 93.41 over 20 epochs which is a modest decrease, but the validation loss values show erratic behavior such as the validation loss spike of 185.63 in Epoch 12.  Overall, the results of both the training and the validation set can suggest some overfitting in the ResNet 50 model because the model's MAE and loss values significantly improve in the\n",
    "training set, but does not improve or may even worsen during some epochs in the validation set.  The issue is that the model\n",
    "may make very accurate predicitions on seen data (such as the training set), but the model not make as accurate predictions \n",
    "on the unseen data (as seen on the validation set). \n",
    "\n",
    "The model may possibly benefit from techniques such as regularization or augmentation."
   ]
  },
  {
   "cell_type": "markdown",
   "metadata": {},
   "source": [
    "#### Note To Reviewer:\n",
    "I attempted to test my code in Google Colab, but when I ran the code I was stil not getting any results\n",
    "even after waiting for a long time.  One of the TripleTen tutors advised me to just copy and paste the \n",
    "model results from the TripleTen materials.  I also see that there is some precode below, but I am not sure if\n",
    "I need the precode since I do not have a GPU platform suitable to run my code.  So, I decided to just leave the \n",
    "precode as is."
   ]
  },
  {
   "cell_type": "markdown",
   "metadata": {},
   "source": [
    "<div style=\"border: 5px solid green; padding: 10px; margin: 5px\">\n",
    "<b>   Reviewer's comment 2 </b>\n",
    "    \n",
    "It's ok. You don't need to run the code in this sprint. In colab, however, you indeed have limitted number of GPU hours. \n",
    "</div>"
   ]
  },
  {
   "cell_type": "markdown",
   "metadata": {},
   "source": [
    "#### Neural Network Model"
   ]
  },
  {
   "cell_type": "markdown",
   "metadata": {},
   "source": [
    "### Prepare the Script to Run on the GPU Platform"
   ]
  },
  {
   "cell_type": "markdown",
   "metadata": {},
   "source": [
    "Given you've defined the necessary functions you can compose a script for the GPU platform, download it via the \"File|Open...\" menu, and to upload it later for running on the GPU platform.\n",
    "\n",
    "N.B.: The script should include the initialization section as well. An example of this is shown below."
   ]
  },
  {
   "cell_type": "code",
   "execution_count": null,
   "metadata": {},
   "outputs": [],
   "source": [
    "# prepare a script to run on the GPU platform\n",
    "\n",
    "init_str = \"\"\"\n",
    "import pandas as pd\n",
    "\n",
    "import tensorflow as tf\n",
    "\n",
    "from tensorflow.keras.preprocessing.image import ImageDataGenerator\n",
    "from tensorflow.keras.applications.resnet import ResNet50\n",
    "from tensorflow.keras.models import Sequential\n",
    "from tensorflow.keras.layers import GlobalAveragePooling2D, Dense, Dropout, Flatten\n",
    "from tensorflow.keras.optimizers import Adam\n",
    "\"\"\"\n",
    "\n",
    "import inspect\n",
    "\n",
    "with open('run_model_on_gpu.py', 'w') as f:\n",
    "    \n",
    "    f.write(init_str)\n",
    "    f.write('\\n\\n')\n",
    "        \n",
    "    for fn_name in [load_train, load_test, create_model, train_model]:\n",
    "        \n",
    "        src = inspect.getsource(fn_name)\n",
    "        f.write(src)\n",
    "        f.write('\\n\\n')"
   ]
  },
  {
   "cell_type": "markdown",
   "metadata": {},
   "source": [
    "### Output"
   ]
  },
  {
   "cell_type": "markdown",
   "metadata": {},
   "source": [
    "Place the output from the GPU platform as an Markdown cell here."
   ]
  },
  {
   "cell_type": "code",
   "execution_count": null,
   "metadata": {},
   "outputs": [],
   "source": []
  },
  {
   "cell_type": "markdown",
   "metadata": {},
   "source": [
    "## Conclusions"
   ]
  },
  {
   "cell_type": "markdown",
   "metadata": {},
   "source": [
    "Final Conclusions:\n",
    "\n",
    "* The ResNet 50 model had significantly lower MAE and loss values when making predictions on the the training set, but the model only had a modest decrease in MAE and validation loss when making predictions on the validation set. The model's validation loss also showed erratic behavior and sometimes would get even worse during certain epochs. For example, the model's validation loss showed a spike of: 185.63 in Epoch 12.\n",
    "\n",
    "* The ResNet 50 model's results may indicate some overfitting. The model seems to make very good predictions on\n",
    "seen data such as the training set, but the model tends to not make as good predictions on unseen data such as \n",
    "the validation set.\n",
    "  \n",
    "* Techniques such as: regularization and augmentation may possibly improve the ResNet 50 model's results.\n",
    " \n",
    "* The customer age range with the highest count is: approximately 28-30 years old with a number of photos count of: approximately 580.    \n",
    "The customer age range with the lowest count is: approximately 98-100 years old with a number of photos count of: approximately 5.\n",
    "  \n",
    "* The customer age group with the highest count is: 1-50 years old, with a number of   photos count of: approximately 6,800. The age group with the second highest count is: 51-75 years old, with a count of: approximately 800 photos.  The customer age group with the lowest number of photos count is: 76-100 years old , with a count of: approximately 100 photos.\n",
    "  \n",
    "* Mean squared error (MSE) appears to be a better and more suitable loss function than mean absolute error (MAE) because the dataset does not seem uniform and there are outliers noted in the dataset as well.\n",
    "\n",
    "* The customer with the youngest age in the dataset is: 1 years old and the customer with the oldest age in the dataset is: 100 years old.\n",
    " \n",
    " * The median (average) customer age in the dataset is: 29 years old.\n",
    " \n",
    " * According to the image/age verification EDA section, the customer ages seems to be correct according to the customer image/ photo."
   ]
  },
  {
   "cell_type": "markdown",
   "metadata": {},
   "source": [
    "<div style=\"border: 5px solid green; padding: 10px; margin: 5px\">\n",
    "<b>   Reviewer's comment </b>\n",
    "    \n",
    "\n",
    "Very good! \n",
    "\n",
    "</div>\n",
    "<div style=\"border: 5px solid gold; padding: 10px; margin: 5px\">\n",
    "<b>   Reviewer's comment </b>\n",
    "    \n",
    "\n",
    "In your opinion, are there any other methods we can use to improve quality?\n",
    "    \n",
    "</div>"
   ]
  },
  {
   "cell_type": "markdown",
   "metadata": {},
   "source": [
    "# Checklist"
   ]
  },
  {
   "cell_type": "markdown",
   "metadata": {},
   "source": [
    "- [ ]  Notebook was opened\n",
    "- [ ]  The code is error free\n",
    "- [ ]  The cells with code have been arranged by order of execution\n",
    "- [ ]  The exploratory data analysis has been performed\n",
    "- [ ]  The results of the exploratory data analysis are presented in the final notebook\n",
    "- [ ]  The model's MAE score is not higher than 8\n",
    "- [ ]  The model training code has been copied to the final notebook\n",
    "- [ ]  The model training output has been copied to the final notebook\n",
    "- [ ]  The findings have been provided based on the results of the model training"
   ]
  },
  {
   "cell_type": "code",
   "execution_count": null,
   "metadata": {},
   "outputs": [],
   "source": []
  }
 ],
 "metadata": {
  "ExecuteTimeLog": [
   {
    "duration": 279,
    "start_time": "2025-07-01T06:33:09.000Z"
   },
   {
    "duration": 1333,
    "start_time": "2025-07-01T06:33:16.822Z"
   },
   {
    "duration": 4,
    "start_time": "2025-07-01T06:33:54.517Z"
   },
   {
    "duration": 755,
    "start_time": "2025-07-01T06:35:39.853Z"
   },
   {
    "duration": 63,
    "start_time": "2025-07-01T06:37:02.774Z"
   },
   {
    "duration": 16,
    "start_time": "2025-07-01T06:38:28.241Z"
   },
   {
    "duration": 16,
    "start_time": "2025-07-01T06:39:50.831Z"
   },
   {
    "duration": 6,
    "start_time": "2025-07-01T06:40:02.118Z"
   },
   {
    "duration": 18,
    "start_time": "2025-07-01T06:40:41.028Z"
   },
   {
    "duration": 6,
    "start_time": "2025-07-01T06:40:49.912Z"
   },
   {
    "duration": 4,
    "start_time": "2025-07-01T06:41:16.168Z"
   },
   {
    "duration": 5,
    "start_time": "2025-07-01T06:41:27.557Z"
   },
   {
    "duration": 9,
    "start_time": "2025-07-01T06:43:25.569Z"
   },
   {
    "duration": 16,
    "start_time": "2025-07-01T06:43:36.364Z"
   },
   {
    "duration": 11,
    "start_time": "2025-07-01T06:43:42.262Z"
   },
   {
    "duration": 3506,
    "start_time": "2025-07-02T00:18:57.305Z"
   },
   {
    "duration": 17,
    "start_time": "2025-07-02T00:19:03.136Z"
   },
   {
    "duration": 11,
    "start_time": "2025-07-02T00:19:03.859Z"
   },
   {
    "duration": 7,
    "start_time": "2025-07-02T00:19:04.995Z"
   },
   {
    "duration": 4,
    "start_time": "2025-07-02T00:19:05.764Z"
   },
   {
    "duration": 8,
    "start_time": "2025-07-02T00:19:06.917Z"
   },
   {
    "duration": 9,
    "start_time": "2025-07-02T00:19:08.004Z"
   },
   {
    "duration": 415,
    "start_time": "2025-07-02T00:21:00.903Z"
   },
   {
    "duration": 386,
    "start_time": "2025-07-02T00:23:13.114Z"
   },
   {
    "duration": 188,
    "start_time": "2025-07-02T00:23:21.378Z"
   },
   {
    "duration": 237,
    "start_time": "2025-07-02T00:25:49.985Z"
   },
   {
    "duration": 218,
    "start_time": "2025-07-02T00:26:01.081Z"
   },
   {
    "duration": 149,
    "start_time": "2025-07-02T00:26:13.317Z"
   },
   {
    "duration": 152,
    "start_time": "2025-07-02T00:26:54.032Z"
   },
   {
    "duration": 3700,
    "start_time": "2025-07-02T21:52:52.565Z"
   },
   {
    "duration": 23,
    "start_time": "2025-07-02T21:52:56.269Z"
   },
   {
    "duration": 6,
    "start_time": "2025-07-02T21:52:56.294Z"
   },
   {
    "duration": 5,
    "start_time": "2025-07-02T21:53:00.827Z"
   },
   {
    "duration": 8,
    "start_time": "2025-07-02T21:53:01.590Z"
   },
   {
    "duration": 7,
    "start_time": "2025-07-02T21:53:02.349Z"
   },
   {
    "duration": 9,
    "start_time": "2025-07-02T21:53:06.568Z"
   },
   {
    "duration": 10,
    "start_time": "2025-07-02T21:53:07.334Z"
   },
   {
    "duration": 149,
    "start_time": "2025-07-02T21:53:11.870Z"
   },
   {
    "duration": 232,
    "start_time": "2025-07-02T21:53:20.903Z"
   },
   {
    "duration": 3,
    "start_time": "2025-07-02T21:53:25.723Z"
   },
   {
    "duration": 3,
    "start_time": "2025-07-02T21:53:26.376Z"
   },
   {
    "duration": 3,
    "start_time": "2025-07-02T21:53:27.501Z"
   },
   {
    "duration": 3,
    "start_time": "2025-07-02T21:53:30.217Z"
   },
   {
    "duration": 12,
    "start_time": "2025-07-02T21:53:31.470Z"
   },
   {
    "duration": 2,
    "start_time": "2025-07-02T22:09:27.372Z"
   },
   {
    "duration": 3,
    "start_time": "2025-07-02T22:51:51.569Z"
   },
   {
    "duration": 2,
    "start_time": "2025-07-02T22:51:56.489Z"
   },
   {
    "duration": 7,
    "start_time": "2025-07-02T23:08:21.321Z"
   },
   {
    "duration": 3,
    "start_time": "2025-07-02T23:08:47.848Z"
   },
   {
    "duration": 5,
    "start_time": "2025-07-02T23:09:12.606Z"
   },
   {
    "duration": 4,
    "start_time": "2025-07-02T23:09:28.071Z"
   },
   {
    "duration": 389,
    "start_time": "2025-07-02T23:09:35.307Z"
   },
   {
    "duration": 444,
    "start_time": "2025-07-02T23:10:08.255Z"
   },
   {
    "duration": 2,
    "start_time": "2025-07-02T23:57:32.859Z"
   },
   {
    "duration": 159,
    "start_time": "2025-07-05T20:48:41.269Z"
   },
   {
    "duration": 3688,
    "start_time": "2025-07-05T20:49:42.495Z"
   },
   {
    "duration": 18,
    "start_time": "2025-07-05T20:49:46.185Z"
   },
   {
    "duration": 5,
    "start_time": "2025-07-05T20:49:46.205Z"
   },
   {
    "duration": 8,
    "start_time": "2025-07-05T20:49:46.212Z"
   },
   {
    "duration": 3,
    "start_time": "2025-07-05T20:49:46.222Z"
   },
   {
    "duration": 7,
    "start_time": "2025-07-05T20:49:46.227Z"
   },
   {
    "duration": 8,
    "start_time": "2025-07-05T20:49:46.235Z"
   },
   {
    "duration": 9,
    "start_time": "2025-07-05T20:49:46.246Z"
   },
   {
    "duration": 186,
    "start_time": "2025-07-05T20:49:46.257Z"
   },
   {
    "duration": 242,
    "start_time": "2025-07-05T20:49:46.446Z"
   },
   {
    "duration": 388,
    "start_time": "2025-07-05T20:49:46.690Z"
   },
   {
    "duration": 0,
    "start_time": "2025-07-05T20:49:47.080Z"
   },
   {
    "duration": 1,
    "start_time": "2025-07-05T20:49:47.081Z"
   },
   {
    "duration": 0,
    "start_time": "2025-07-05T20:49:47.082Z"
   },
   {
    "duration": 0,
    "start_time": "2025-07-05T20:49:47.083Z"
   },
   {
    "duration": 0,
    "start_time": "2025-07-05T20:49:47.084Z"
   },
   {
    "duration": 1,
    "start_time": "2025-07-05T20:49:47.085Z"
   },
   {
    "duration": 0,
    "start_time": "2025-07-05T20:49:47.087Z"
   },
   {
    "duration": 0,
    "start_time": "2025-07-05T20:49:47.088Z"
   },
   {
    "duration": 0,
    "start_time": "2025-07-05T20:49:47.090Z"
   },
   {
    "duration": 0,
    "start_time": "2025-07-05T20:49:47.091Z"
   },
   {
    "duration": 0,
    "start_time": "2025-07-05T20:49:47.092Z"
   },
   {
    "duration": 3,
    "start_time": "2025-07-05T20:54:34.429Z"
   },
   {
    "duration": 78,
    "start_time": "2025-07-05T20:56:14.122Z"
   },
   {
    "duration": 38,
    "start_time": "2025-07-05T20:56:54.371Z"
   },
   {
    "duration": 37,
    "start_time": "2025-07-05T20:56:58.721Z"
   },
   {
    "duration": 59,
    "start_time": "2025-07-05T20:58:55.641Z"
   },
   {
    "duration": 42,
    "start_time": "2025-07-05T20:59:41.109Z"
   },
   {
    "duration": 21,
    "start_time": "2025-07-05T20:59:48.844Z"
   },
   {
    "duration": 6,
    "start_time": "2025-07-05T21:00:11.199Z"
   },
   {
    "duration": 37,
    "start_time": "2025-07-05T21:00:35.853Z"
   },
   {
    "duration": 4,
    "start_time": "2025-07-05T21:00:45.456Z"
   },
   {
    "duration": 4,
    "start_time": "2025-07-05T21:03:13.251Z"
   },
   {
    "duration": 47,
    "start_time": "2025-07-05T21:03:19.934Z"
   },
   {
    "duration": 5,
    "start_time": "2025-07-05T21:04:36.269Z"
   },
   {
    "duration": 47,
    "start_time": "2025-07-05T21:04:43.431Z"
   },
   {
    "duration": 13848,
    "start_time": "2025-07-05T21:04:53.722Z"
   },
   {
    "duration": 3588,
    "start_time": "2025-07-05T21:07:41.113Z"
   },
   {
    "duration": 3553,
    "start_time": "2025-07-05T21:08:01.166Z"
   },
   {
    "duration": 3541,
    "start_time": "2025-07-05T21:08:16.612Z"
   },
   {
    "duration": 3610,
    "start_time": "2025-07-09T22:27:23.562Z"
   },
   {
    "duration": 15,
    "start_time": "2025-07-09T22:27:27.174Z"
   },
   {
    "duration": 7,
    "start_time": "2025-07-09T22:27:27.190Z"
   },
   {
    "duration": 7,
    "start_time": "2025-07-09T22:27:27.198Z"
   },
   {
    "duration": 3,
    "start_time": "2025-07-09T22:27:27.219Z"
   },
   {
    "duration": 6,
    "start_time": "2025-07-09T22:27:27.224Z"
   },
   {
    "duration": 8,
    "start_time": "2025-07-09T22:27:27.232Z"
   },
   {
    "duration": 10,
    "start_time": "2025-07-09T22:27:27.241Z"
   },
   {
    "duration": 270,
    "start_time": "2025-07-09T22:27:27.252Z"
   },
   {
    "duration": 264,
    "start_time": "2025-07-09T22:27:27.524Z"
   },
   {
    "duration": 19726,
    "start_time": "2025-07-09T22:27:27.790Z"
   },
   {
    "duration": 48,
    "start_time": "2025-07-09T22:27:47.518Z"
   },
   {
    "duration": 317,
    "start_time": "2025-07-09T22:27:47.567Z"
   },
   {
    "duration": 6,
    "start_time": "2025-07-09T22:27:47.888Z"
   },
   {
    "duration": 918,
    "start_time": "2025-07-09T22:27:47.895Z"
   },
   {
    "duration": 0,
    "start_time": "2025-07-09T22:27:48.815Z"
   },
   {
    "duration": 0,
    "start_time": "2025-07-09T22:27:48.819Z"
   },
   {
    "duration": 0,
    "start_time": "2025-07-09T22:27:48.820Z"
   },
   {
    "duration": 0,
    "start_time": "2025-07-09T22:27:48.822Z"
   },
   {
    "duration": 0,
    "start_time": "2025-07-09T22:27:48.824Z"
   },
   {
    "duration": 0,
    "start_time": "2025-07-09T22:27:48.825Z"
   },
   {
    "duration": 0,
    "start_time": "2025-07-09T22:27:48.827Z"
   },
   {
    "duration": 0,
    "start_time": "2025-07-09T22:27:48.828Z"
   },
   {
    "duration": 0,
    "start_time": "2025-07-09T22:27:48.829Z"
   },
   {
    "duration": 50,
    "start_time": "2025-07-09T22:29:02.464Z"
   },
   {
    "duration": 3,
    "start_time": "2025-07-09T22:50:19.767Z"
   },
   {
    "duration": 3,
    "start_time": "2025-07-09T22:50:32.285Z"
   },
   {
    "duration": 5,
    "start_time": "2025-07-09T22:50:54.492Z"
   },
   {
    "duration": 17,
    "start_time": "2025-07-09T22:51:39.982Z"
   },
   {
    "duration": 337,
    "start_time": "2025-07-09T23:07:11.005Z"
   },
   {
    "duration": 67,
    "start_time": "2025-07-09T23:07:51.710Z"
   },
   {
    "duration": 4,
    "start_time": "2025-07-09T23:08:35.763Z"
   },
   {
    "duration": 31,
    "start_time": "2025-07-09T23:08:36.963Z"
   },
   {
    "duration": 4,
    "start_time": "2025-07-09T23:09:52.015Z"
   },
   {
    "duration": 76,
    "start_time": "2025-07-09T23:09:54.178Z"
   },
   {
    "duration": 15356,
    "start_time": "2025-07-09T23:10:16.048Z"
   },
   {
    "duration": 4,
    "start_time": "2025-07-09T23:11:05.510Z"
   },
   {
    "duration": 4543,
    "start_time": "2025-07-09T23:11:06.565Z"
   },
   {
    "duration": 4,
    "start_time": "2025-07-09T23:18:15.935Z"
   },
   {
    "duration": 4624,
    "start_time": "2025-07-09T23:18:18.380Z"
   },
   {
    "duration": 4,
    "start_time": "2025-07-09T23:19:55.468Z"
   },
   {
    "duration": 4584,
    "start_time": "2025-07-09T23:21:10.552Z"
   },
   {
    "duration": 16,
    "start_time": "2025-07-09T23:21:56.740Z"
   },
   {
    "duration": 4519,
    "start_time": "2025-07-09T23:22:18.546Z"
   },
   {
    "duration": 4,
    "start_time": "2025-07-09T23:22:27.433Z"
   },
   {
    "duration": 127,
    "start_time": "2025-07-09T23:22:39.345Z"
   },
   {
    "duration": 52,
    "start_time": "2025-07-09T23:23:05.738Z"
   },
   {
    "duration": 3,
    "start_time": "2025-07-09T23:31:35.511Z"
   },
   {
    "duration": 17,
    "start_time": "2025-07-09T23:51:26.521Z"
   },
   {
    "duration": 3,
    "start_time": "2025-07-09T23:52:03.946Z"
   },
   {
    "duration": 280,
    "start_time": "2025-07-09T23:52:14.028Z"
   },
   {
    "duration": 31,
    "start_time": "2025-07-09T23:52:28.425Z"
   },
   {
    "duration": 4,
    "start_time": "2025-07-09T23:57:59.498Z"
   },
   {
    "duration": 483,
    "start_time": "2025-07-09T23:59:08.234Z"
   },
   {
    "duration": 19,
    "start_time": "2025-07-10T00:01:45.146Z"
   },
   {
    "duration": 35,
    "start_time": "2025-07-10T00:02:01.230Z"
   },
   {
    "duration": 18,
    "start_time": "2025-07-10T00:02:59.020Z"
   },
   {
    "duration": 13,
    "start_time": "2025-07-10T00:03:40.288Z"
   },
   {
    "duration": 21,
    "start_time": "2025-07-10T00:05:10.033Z"
   },
   {
    "duration": 7,
    "start_time": "2025-07-10T00:05:29.052Z"
   },
   {
    "duration": 3811,
    "start_time": "2025-07-10T06:06:26.208Z"
   },
   {
    "duration": 14,
    "start_time": "2025-07-10T06:06:30.022Z"
   },
   {
    "duration": 7,
    "start_time": "2025-07-10T06:06:30.037Z"
   },
   {
    "duration": 6,
    "start_time": "2025-07-10T06:06:30.046Z"
   },
   {
    "duration": 4,
    "start_time": "2025-07-10T06:06:30.065Z"
   },
   {
    "duration": 7,
    "start_time": "2025-07-10T06:06:30.071Z"
   },
   {
    "duration": 12,
    "start_time": "2025-07-10T06:06:30.080Z"
   },
   {
    "duration": 11,
    "start_time": "2025-07-10T06:06:30.095Z"
   },
   {
    "duration": 184,
    "start_time": "2025-07-10T06:06:30.107Z"
   },
   {
    "duration": 251,
    "start_time": "2025-07-10T06:06:30.294Z"
   },
   {
    "duration": 460,
    "start_time": "2025-07-10T06:06:30.547Z"
   },
   {
    "duration": 25,
    "start_time": "2025-07-10T06:06:31.009Z"
   },
   {
    "duration": 10,
    "start_time": "2025-07-10T06:06:31.036Z"
   },
   {
    "duration": 6,
    "start_time": "2025-07-10T06:06:31.047Z"
   },
   {
    "duration": 95,
    "start_time": "2025-07-10T06:06:31.055Z"
   },
   {
    "duration": 6,
    "start_time": "2025-07-10T06:06:31.152Z"
   },
   {
    "duration": 4,
    "start_time": "2025-07-10T06:06:31.166Z"
   },
   {
    "duration": 53,
    "start_time": "2025-07-10T06:06:31.171Z"
   },
   {
    "duration": 4,
    "start_time": "2025-07-10T06:06:31.226Z"
   },
   {
    "duration": 64,
    "start_time": "2025-07-10T06:06:31.231Z"
   },
   {
    "duration": 6,
    "start_time": "2025-07-10T06:06:31.297Z"
   },
   {
    "duration": 0,
    "start_time": "2025-07-10T06:06:31.304Z"
   },
   {
    "duration": 0,
    "start_time": "2025-07-10T06:06:31.306Z"
   },
   {
    "duration": 0,
    "start_time": "2025-07-10T06:06:31.307Z"
   },
   {
    "duration": 0,
    "start_time": "2025-07-10T06:06:31.309Z"
   },
   {
    "duration": 0,
    "start_time": "2025-07-10T06:06:31.311Z"
   },
   {
    "duration": 4,
    "start_time": "2025-07-10T06:12:07.420Z"
   },
   {
    "duration": 3,
    "start_time": "2025-07-10T06:12:16.718Z"
   },
   {
    "duration": 3,
    "start_time": "2025-07-10T06:14:21.709Z"
   },
   {
    "duration": 389,
    "start_time": "2025-07-10T06:15:13.171Z"
   },
   {
    "duration": 1850,
    "start_time": "2025-07-10T06:15:42.764Z"
   },
   {
    "duration": 3,
    "start_time": "2025-07-10T06:16:55.425Z"
   },
   {
    "duration": 16,
    "start_time": "2025-07-10T06:17:05.907Z"
   },
   {
    "duration": 18,
    "start_time": "2025-07-10T06:17:22.891Z"
   },
   {
    "duration": 102,
    "start_time": "2025-07-10T06:17:45.143Z"
   },
   {
    "duration": 3,
    "start_time": "2025-07-10T06:20:53.337Z"
   },
   {
    "duration": 32,
    "start_time": "2025-07-10T06:21:00.580Z"
   },
   {
    "duration": 4,
    "start_time": "2025-07-10T06:21:22.851Z"
   },
   {
    "duration": 31,
    "start_time": "2025-07-10T06:21:25.046Z"
   },
   {
    "duration": 3,
    "start_time": "2025-07-10T06:22:41.868Z"
   },
   {
    "duration": 3615,
    "start_time": "2025-07-10T22:39:20.231Z"
   },
   {
    "duration": 17,
    "start_time": "2025-07-10T22:39:23.849Z"
   },
   {
    "duration": 6,
    "start_time": "2025-07-10T22:39:23.867Z"
   },
   {
    "duration": 5,
    "start_time": "2025-07-10T22:39:23.875Z"
   },
   {
    "duration": 3,
    "start_time": "2025-07-10T22:39:23.882Z"
   },
   {
    "duration": 7,
    "start_time": "2025-07-10T22:39:23.886Z"
   },
   {
    "duration": 8,
    "start_time": "2025-07-10T22:39:23.895Z"
   },
   {
    "duration": 8,
    "start_time": "2025-07-10T22:39:23.905Z"
   },
   {
    "duration": 187,
    "start_time": "2025-07-10T22:39:23.914Z"
   },
   {
    "duration": 226,
    "start_time": "2025-07-10T22:39:24.105Z"
   },
   {
    "duration": 467,
    "start_time": "2025-07-10T22:39:24.332Z"
   },
   {
    "duration": 33,
    "start_time": "2025-07-10T22:39:24.801Z"
   },
   {
    "duration": 9,
    "start_time": "2025-07-10T22:39:24.835Z"
   },
   {
    "duration": 6,
    "start_time": "2025-07-10T22:39:24.846Z"
   },
   {
    "duration": 89,
    "start_time": "2025-07-10T22:39:24.854Z"
   },
   {
    "duration": 5,
    "start_time": "2025-07-10T22:39:24.944Z"
   },
   {
    "duration": 3,
    "start_time": "2025-07-10T22:39:24.951Z"
   },
   {
    "duration": 57,
    "start_time": "2025-07-10T22:39:24.956Z"
   },
   {
    "duration": 3,
    "start_time": "2025-07-10T22:39:25.015Z"
   },
   {
    "duration": 58,
    "start_time": "2025-07-10T22:39:25.020Z"
   },
   {
    "duration": 3,
    "start_time": "2025-07-10T22:39:25.079Z"
   },
   {
    "duration": 2024,
    "start_time": "2025-07-10T22:39:25.084Z"
   },
   {
    "duration": 4,
    "start_time": "2025-07-10T22:39:27.110Z"
   },
   {
    "duration": 1940,
    "start_time": "2025-07-11T00:01:04.834Z"
   },
   {
    "duration": 8,
    "start_time": "2025-07-11T00:01:06.776Z"
   },
   {
    "duration": 7,
    "start_time": "2025-07-11T00:01:06.786Z"
   },
   {
    "duration": 5,
    "start_time": "2025-07-11T00:01:06.795Z"
   },
   {
    "duration": 3,
    "start_time": "2025-07-11T00:01:06.802Z"
   },
   {
    "duration": 7,
    "start_time": "2025-07-11T00:01:06.807Z"
   },
   {
    "duration": 8,
    "start_time": "2025-07-11T00:01:06.816Z"
   },
   {
    "duration": 46,
    "start_time": "2025-07-11T00:01:06.825Z"
   },
   {
    "duration": 174,
    "start_time": "2025-07-11T00:01:06.872Z"
   },
   {
    "duration": 519,
    "start_time": "2025-07-11T00:01:07.066Z"
   },
   {
    "duration": 122,
    "start_time": "2025-07-11T00:01:07.587Z"
   },
   {
    "duration": 1229,
    "start_time": "2025-07-11T00:01:07.710Z"
   },
   {
    "duration": 209,
    "start_time": "2025-07-11T00:01:08.940Z"
   },
   {
    "duration": 15,
    "start_time": "2025-07-11T00:01:09.151Z"
   },
   {
    "duration": 12,
    "start_time": "2025-07-11T00:01:09.168Z"
   },
   {
    "duration": 10,
    "start_time": "2025-07-11T00:01:09.181Z"
   },
   {
    "duration": 6,
    "start_time": "2025-07-11T00:01:09.192Z"
   },
   {
    "duration": 5851,
    "start_time": "2025-07-11T00:01:09.200Z"
   },
   {
    "duration": 5,
    "start_time": "2025-07-11T00:01:15.053Z"
   },
   {
    "duration": 3,
    "start_time": "2025-07-11T00:01:15.060Z"
   },
   {
    "duration": 53,
    "start_time": "2025-07-11T00:01:15.065Z"
   },
   {
    "duration": 511,
    "start_time": "2025-07-11T00:01:15.120Z"
   },
   {
    "duration": 0,
    "start_time": "2025-07-11T00:01:15.633Z"
   },
   {
    "duration": 0,
    "start_time": "2025-07-11T00:01:15.635Z"
   },
   {
    "duration": 0,
    "start_time": "2025-07-11T00:01:15.636Z"
   },
   {
    "duration": 0,
    "start_time": "2025-07-11T00:01:15.638Z"
   },
   {
    "duration": 0,
    "start_time": "2025-07-11T00:01:15.639Z"
   },
   {
    "duration": 0,
    "start_time": "2025-07-11T00:01:15.641Z"
   },
   {
    "duration": 0,
    "start_time": "2025-07-11T00:01:15.644Z"
   },
   {
    "duration": 75,
    "start_time": "2025-07-11T00:01:33.886Z"
   },
   {
    "duration": 111,
    "start_time": "2025-07-11T00:02:28.225Z"
   },
   {
    "duration": 120,
    "start_time": "2025-07-11T00:03:01.436Z"
   },
   {
    "duration": 122,
    "start_time": "2025-07-11T00:03:18.930Z"
   },
   {
    "duration": 112,
    "start_time": "2025-07-11T00:03:31.335Z"
   },
   {
    "duration": 4,
    "start_time": "2025-07-11T00:03:34.627Z"
   },
   {
    "duration": 125,
    "start_time": "2025-07-11T00:03:41.074Z"
   },
   {
    "duration": 664,
    "start_time": "2025-07-11T00:05:48.193Z"
   },
   {
    "duration": 172,
    "start_time": "2025-07-11T00:05:55.907Z"
   },
   {
    "duration": 115,
    "start_time": "2025-07-11T00:06:12.463Z"
   },
   {
    "duration": 113,
    "start_time": "2025-07-11T00:09:56.549Z"
   },
   {
    "duration": 120,
    "start_time": "2025-07-11T00:10:07.326Z"
   },
   {
    "duration": 3,
    "start_time": "2025-07-11T00:10:10.563Z"
   },
   {
    "duration": 138,
    "start_time": "2025-07-11T00:10:18.616Z"
   },
   {
    "duration": 136,
    "start_time": "2025-07-11T00:17:37.280Z"
   },
   {
    "duration": 1532,
    "start_time": "2025-07-11T00:20:12.015Z"
   },
   {
    "duration": 2,
    "start_time": "2025-07-11T00:20:25.252Z"
   },
   {
    "duration": 151,
    "start_time": "2025-07-11T00:21:52.711Z"
   },
   {
    "duration": 4,
    "start_time": "2025-07-11T00:26:13.787Z"
   },
   {
    "duration": 3,
    "start_time": "2025-07-11T00:27:28.012Z"
   },
   {
    "duration": 4,
    "start_time": "2025-07-11T00:27:37.590Z"
   },
   {
    "duration": 3,
    "start_time": "2025-07-11T00:27:47.183Z"
   },
   {
    "duration": 4,
    "start_time": "2025-07-11T00:30:04.776Z"
   },
   {
    "duration": 3733,
    "start_time": "2025-07-11T16:30:38.130Z"
   },
   {
    "duration": 18,
    "start_time": "2025-07-11T16:30:41.866Z"
   },
   {
    "duration": 6,
    "start_time": "2025-07-11T16:30:41.886Z"
   },
   {
    "duration": 5,
    "start_time": "2025-07-11T16:30:41.895Z"
   },
   {
    "duration": 3,
    "start_time": "2025-07-11T16:30:41.902Z"
   },
   {
    "duration": 7,
    "start_time": "2025-07-11T16:30:41.907Z"
   },
   {
    "duration": 8,
    "start_time": "2025-07-11T16:30:41.915Z"
   },
   {
    "duration": 9,
    "start_time": "2025-07-11T16:30:41.925Z"
   },
   {
    "duration": 195,
    "start_time": "2025-07-11T16:30:41.936Z"
   },
   {
    "duration": 559,
    "start_time": "2025-07-11T16:30:42.134Z"
   },
   {
    "duration": 117,
    "start_time": "2025-07-11T16:30:42.695Z"
   },
   {
    "duration": 396,
    "start_time": "2025-07-11T16:30:42.813Z"
   },
   {
    "duration": 0,
    "start_time": "2025-07-11T16:30:43.211Z"
   },
   {
    "duration": 0,
    "start_time": "2025-07-11T16:30:43.212Z"
   },
   {
    "duration": 0,
    "start_time": "2025-07-11T16:30:43.213Z"
   },
   {
    "duration": 0,
    "start_time": "2025-07-11T16:30:43.214Z"
   },
   {
    "duration": 0,
    "start_time": "2025-07-11T16:30:43.215Z"
   },
   {
    "duration": 0,
    "start_time": "2025-07-11T16:30:43.216Z"
   },
   {
    "duration": 0,
    "start_time": "2025-07-11T16:30:43.217Z"
   },
   {
    "duration": 0,
    "start_time": "2025-07-11T16:30:43.218Z"
   },
   {
    "duration": 0,
    "start_time": "2025-07-11T16:30:43.219Z"
   },
   {
    "duration": 0,
    "start_time": "2025-07-11T16:30:43.220Z"
   },
   {
    "duration": 0,
    "start_time": "2025-07-11T16:30:43.220Z"
   },
   {
    "duration": 0,
    "start_time": "2025-07-11T16:30:43.221Z"
   },
   {
    "duration": 0,
    "start_time": "2025-07-11T16:30:43.222Z"
   },
   {
    "duration": 0,
    "start_time": "2025-07-11T16:30:43.223Z"
   },
   {
    "duration": 0,
    "start_time": "2025-07-11T16:30:43.224Z"
   },
   {
    "duration": 0,
    "start_time": "2025-07-11T16:30:43.225Z"
   },
   {
    "duration": 0,
    "start_time": "2025-07-11T16:30:43.227Z"
   },
   {
    "duration": 0,
    "start_time": "2025-07-11T16:30:43.228Z"
   },
   {
    "duration": 0,
    "start_time": "2025-07-11T16:30:43.229Z"
   },
   {
    "duration": 0,
    "start_time": "2025-07-11T16:30:43.231Z"
   },
   {
    "duration": 0,
    "start_time": "2025-07-11T16:30:43.232Z"
   },
   {
    "duration": 4,
    "start_time": "2025-07-11T16:31:15.502Z"
   },
   {
    "duration": 10,
    "start_time": "2025-07-11T16:31:15.508Z"
   },
   {
    "duration": 5,
    "start_time": "2025-07-11T16:31:15.520Z"
   },
   {
    "duration": 5,
    "start_time": "2025-07-11T16:31:15.526Z"
   },
   {
    "duration": 3,
    "start_time": "2025-07-11T16:31:15.534Z"
   },
   {
    "duration": 7,
    "start_time": "2025-07-11T16:31:15.539Z"
   },
   {
    "duration": 8,
    "start_time": "2025-07-11T16:31:15.548Z"
   },
   {
    "duration": 35,
    "start_time": "2025-07-11T16:31:15.558Z"
   },
   {
    "duration": 155,
    "start_time": "2025-07-11T16:31:15.595Z"
   },
   {
    "duration": 648,
    "start_time": "2025-07-11T16:31:15.751Z"
   },
   {
    "duration": 120,
    "start_time": "2025-07-11T16:31:16.402Z"
   },
   {
    "duration": 160,
    "start_time": "2025-07-11T16:31:16.523Z"
   },
   {
    "duration": 4,
    "start_time": "2025-07-11T16:31:16.685Z"
   },
   {
    "duration": 3,
    "start_time": "2025-07-11T16:31:16.690Z"
   },
   {
    "duration": 17,
    "start_time": "2025-07-11T16:31:16.695Z"
   },
   {
    "duration": 0,
    "start_time": "2025-07-11T16:31:16.713Z"
   },
   {
    "duration": 0,
    "start_time": "2025-07-11T16:31:16.714Z"
   },
   {
    "duration": 0,
    "start_time": "2025-07-11T16:31:16.716Z"
   },
   {
    "duration": 0,
    "start_time": "2025-07-11T16:31:16.718Z"
   },
   {
    "duration": 0,
    "start_time": "2025-07-11T16:31:16.719Z"
   },
   {
    "duration": 0,
    "start_time": "2025-07-11T16:31:16.720Z"
   },
   {
    "duration": 0,
    "start_time": "2025-07-11T16:31:16.722Z"
   },
   {
    "duration": 0,
    "start_time": "2025-07-11T16:31:16.723Z"
   },
   {
    "duration": 0,
    "start_time": "2025-07-11T16:31:16.724Z"
   },
   {
    "duration": 0,
    "start_time": "2025-07-11T16:31:16.725Z"
   },
   {
    "duration": 0,
    "start_time": "2025-07-11T16:31:16.727Z"
   },
   {
    "duration": 0,
    "start_time": "2025-07-11T16:31:16.727Z"
   },
   {
    "duration": 0,
    "start_time": "2025-07-11T16:31:16.728Z"
   },
   {
    "duration": 0,
    "start_time": "2025-07-11T16:31:16.729Z"
   },
   {
    "duration": 0,
    "start_time": "2025-07-11T16:31:16.730Z"
   },
   {
    "duration": 0,
    "start_time": "2025-07-11T16:31:16.732Z"
   },
   {
    "duration": 0,
    "start_time": "2025-07-11T16:31:16.732Z"
   },
   {
    "duration": 0,
    "start_time": "2025-07-11T16:31:16.734Z"
   },
   {
    "duration": 157,
    "start_time": "2025-07-11T16:31:39.039Z"
   },
   {
    "duration": 1909,
    "start_time": "2025-07-11T16:32:01.842Z"
   },
   {
    "duration": 8,
    "start_time": "2025-07-11T16:32:03.753Z"
   },
   {
    "duration": 5,
    "start_time": "2025-07-11T16:32:03.763Z"
   },
   {
    "duration": 18,
    "start_time": "2025-07-11T16:32:03.771Z"
   },
   {
    "duration": 3,
    "start_time": "2025-07-11T16:32:03.790Z"
   },
   {
    "duration": 7,
    "start_time": "2025-07-11T16:32:03.795Z"
   },
   {
    "duration": 8,
    "start_time": "2025-07-11T16:32:03.803Z"
   },
   {
    "duration": 9,
    "start_time": "2025-07-11T16:32:03.813Z"
   },
   {
    "duration": 182,
    "start_time": "2025-07-11T16:32:03.823Z"
   },
   {
    "duration": 521,
    "start_time": "2025-07-11T16:32:04.007Z"
   },
   {
    "duration": 120,
    "start_time": "2025-07-11T16:32:04.530Z"
   },
   {
    "duration": 167,
    "start_time": "2025-07-11T16:32:04.652Z"
   },
   {
    "duration": 3,
    "start_time": "2025-07-11T16:32:04.821Z"
   },
   {
    "duration": 4,
    "start_time": "2025-07-11T16:32:04.825Z"
   },
   {
    "duration": 153,
    "start_time": "2025-07-11T16:32:04.830Z"
   },
   {
    "duration": 257,
    "start_time": "2025-07-11T16:32:04.985Z"
   },
   {
    "duration": 522,
    "start_time": "2025-07-11T16:32:05.244Z"
   },
   {
    "duration": 29,
    "start_time": "2025-07-11T16:32:05.768Z"
   },
   {
    "duration": 10,
    "start_time": "2025-07-11T16:32:05.799Z"
   },
   {
    "duration": 6,
    "start_time": "2025-07-11T16:32:05.811Z"
   },
   {
    "duration": 90,
    "start_time": "2025-07-11T16:32:05.818Z"
   },
   {
    "duration": 6,
    "start_time": "2025-07-11T16:32:05.909Z"
   },
   {
    "duration": 4,
    "start_time": "2025-07-11T16:32:05.916Z"
   },
   {
    "duration": 51,
    "start_time": "2025-07-11T16:32:05.921Z"
   },
   {
    "duration": 147,
    "start_time": "2025-07-11T16:32:05.974Z"
   },
   {
    "duration": 204,
    "start_time": "2025-07-11T16:32:06.123Z"
   },
   {
    "duration": 3,
    "start_time": "2025-07-11T16:32:06.329Z"
   },
   {
    "duration": 62,
    "start_time": "2025-07-11T16:32:06.336Z"
   },
   {
    "duration": 3,
    "start_time": "2025-07-11T16:32:06.399Z"
   },
   {
    "duration": 2113,
    "start_time": "2025-07-11T16:32:06.404Z"
   },
   {
    "duration": 4,
    "start_time": "2025-07-11T16:32:08.518Z"
   },
   {
    "duration": 5,
    "start_time": "2025-07-12T00:13:44.950Z"
   },
   {
    "duration": 3689,
    "start_time": "2025-07-12T00:13:50.576Z"
   },
   {
    "duration": 18,
    "start_time": "2025-07-12T00:13:54.268Z"
   },
   {
    "duration": 6,
    "start_time": "2025-07-12T00:13:54.287Z"
   },
   {
    "duration": 5,
    "start_time": "2025-07-12T00:13:54.296Z"
   },
   {
    "duration": 3,
    "start_time": "2025-07-12T00:13:54.303Z"
   },
   {
    "duration": 19,
    "start_time": "2025-07-12T00:13:54.308Z"
   },
   {
    "duration": 9,
    "start_time": "2025-07-12T00:13:54.328Z"
   },
   {
    "duration": 9,
    "start_time": "2025-07-12T00:13:54.339Z"
   },
   {
    "duration": 172,
    "start_time": "2025-07-12T00:13:54.349Z"
   },
   {
    "duration": 3,
    "start_time": "2025-07-12T00:13:54.525Z"
   },
   {
    "duration": 3,
    "start_time": "2025-07-12T00:13:54.530Z"
   },
   {
    "duration": 3,
    "start_time": "2025-07-12T00:13:54.535Z"
   },
   {
    "duration": 187,
    "start_time": "2025-07-12T00:13:54.539Z"
   },
   {
    "duration": 268,
    "start_time": "2025-07-12T00:13:54.728Z"
   },
   {
    "duration": 3,
    "start_time": "2025-07-12T00:13:54.998Z"
   },
   {
    "duration": 14136,
    "start_time": "2025-07-12T00:13:55.003Z"
   },
   {
    "duration": 4,
    "start_time": "2025-07-12T00:14:09.141Z"
   },
   {
    "duration": 4393,
    "start_time": "2025-07-12T00:14:09.147Z"
   },
   {
    "duration": 3,
    "start_time": "2025-07-12T00:14:13.542Z"
   },
   {
    "duration": 1800,
    "start_time": "2025-07-12T00:14:13.547Z"
   },
   {
    "duration": 3,
    "start_time": "2025-07-12T00:14:15.350Z"
   },
   {
    "duration": 1994,
    "start_time": "2025-07-12T00:17:38.932Z"
   },
   {
    "duration": 9,
    "start_time": "2025-07-12T00:17:40.928Z"
   },
   {
    "duration": 8,
    "start_time": "2025-07-12T00:17:40.940Z"
   },
   {
    "duration": 6,
    "start_time": "2025-07-12T00:17:40.949Z"
   },
   {
    "duration": 4,
    "start_time": "2025-07-12T00:17:40.957Z"
   },
   {
    "duration": 7,
    "start_time": "2025-07-12T00:17:40.962Z"
   },
   {
    "duration": 8,
    "start_time": "2025-07-12T00:17:40.971Z"
   },
   {
    "duration": 47,
    "start_time": "2025-07-12T00:17:40.980Z"
   },
   {
    "duration": 165,
    "start_time": "2025-07-12T00:17:41.029Z"
   },
   {
    "duration": 485,
    "start_time": "2025-07-12T00:17:41.196Z"
   },
   {
    "duration": 0,
    "start_time": "2025-07-12T00:17:41.684Z"
   },
   {
    "duration": 0,
    "start_time": "2025-07-12T00:17:41.685Z"
   },
   {
    "duration": 0,
    "start_time": "2025-07-12T00:17:41.686Z"
   },
   {
    "duration": 0,
    "start_time": "2025-07-12T00:17:41.688Z"
   },
   {
    "duration": 0,
    "start_time": "2025-07-12T00:17:41.689Z"
   },
   {
    "duration": 0,
    "start_time": "2025-07-12T00:17:41.691Z"
   },
   {
    "duration": 0,
    "start_time": "2025-07-12T00:17:41.692Z"
   },
   {
    "duration": 0,
    "start_time": "2025-07-12T00:17:41.694Z"
   },
   {
    "duration": 0,
    "start_time": "2025-07-12T00:17:41.695Z"
   },
   {
    "duration": 0,
    "start_time": "2025-07-12T00:17:41.697Z"
   },
   {
    "duration": 0,
    "start_time": "2025-07-12T00:17:41.698Z"
   },
   {
    "duration": 0,
    "start_time": "2025-07-12T00:17:41.699Z"
   },
   {
    "duration": 0,
    "start_time": "2025-07-12T00:17:41.700Z"
   },
   {
    "duration": 217,
    "start_time": "2025-07-12T00:17:55.430Z"
   },
   {
    "duration": 213,
    "start_time": "2025-07-12T00:18:11.227Z"
   },
   {
    "duration": 53,
    "start_time": "2025-07-12T00:18:28.071Z"
   },
   {
    "duration": 183,
    "start_time": "2025-07-12T00:18:46.459Z"
   },
   {
    "duration": 162,
    "start_time": "2025-07-12T00:19:37.074Z"
   },
   {
    "duration": 1948,
    "start_time": "2025-07-12T00:20:42.736Z"
   },
   {
    "duration": 9,
    "start_time": "2025-07-12T00:20:44.687Z"
   },
   {
    "duration": 6,
    "start_time": "2025-07-12T00:20:44.698Z"
   },
   {
    "duration": 20,
    "start_time": "2025-07-12T00:20:44.706Z"
   },
   {
    "duration": 3,
    "start_time": "2025-07-12T00:20:44.728Z"
   },
   {
    "duration": 7,
    "start_time": "2025-07-12T00:20:44.733Z"
   },
   {
    "duration": 8,
    "start_time": "2025-07-12T00:20:44.742Z"
   },
   {
    "duration": 9,
    "start_time": "2025-07-12T00:20:44.752Z"
   },
   {
    "duration": 183,
    "start_time": "2025-07-12T00:20:44.762Z"
   },
   {
    "duration": 192,
    "start_time": "2025-07-12T00:20:44.947Z"
   },
   {
    "duration": 3,
    "start_time": "2025-07-12T00:20:45.141Z"
   },
   {
    "duration": 4,
    "start_time": "2025-07-12T00:20:45.146Z"
   },
   {
    "duration": 179,
    "start_time": "2025-07-12T00:20:45.151Z"
   },
   {
    "duration": 255,
    "start_time": "2025-07-12T00:20:45.332Z"
   },
   {
    "duration": 4,
    "start_time": "2025-07-12T00:20:45.589Z"
   },
   {
    "duration": 4349,
    "start_time": "2025-07-12T00:20:45.594Z"
   },
   {
    "duration": 4,
    "start_time": "2025-07-12T00:20:49.945Z"
   },
   {
    "duration": 49,
    "start_time": "2025-07-12T00:20:49.951Z"
   },
   {
    "duration": 2,
    "start_time": "2025-07-12T00:20:50.002Z"
   },
   {
    "duration": 1454,
    "start_time": "2025-07-12T00:20:50.006Z"
   },
   {
    "duration": 4,
    "start_time": "2025-07-12T00:20:51.462Z"
   },
   {
    "duration": 1923,
    "start_time": "2025-07-12T00:25:44.565Z"
   },
   {
    "duration": 8,
    "start_time": "2025-07-12T00:25:46.490Z"
   },
   {
    "duration": 6,
    "start_time": "2025-07-12T00:25:46.499Z"
   },
   {
    "duration": 5,
    "start_time": "2025-07-12T00:25:46.507Z"
   },
   {
    "duration": 3,
    "start_time": "2025-07-12T00:25:46.528Z"
   },
   {
    "duration": 7,
    "start_time": "2025-07-12T00:25:46.532Z"
   },
   {
    "duration": 9,
    "start_time": "2025-07-12T00:25:46.540Z"
   },
   {
    "duration": 9,
    "start_time": "2025-07-12T00:25:46.551Z"
   },
   {
    "duration": 178,
    "start_time": "2025-07-12T00:25:46.562Z"
   },
   {
    "duration": 205,
    "start_time": "2025-07-12T00:25:46.742Z"
   },
   {
    "duration": 2,
    "start_time": "2025-07-12T00:25:46.949Z"
   },
   {
    "duration": 3,
    "start_time": "2025-07-12T00:25:46.953Z"
   },
   {
    "duration": 398,
    "start_time": "2025-07-12T00:25:46.958Z"
   },
   {
    "duration": 0,
    "start_time": "2025-07-12T00:25:47.359Z"
   },
   {
    "duration": 0,
    "start_time": "2025-07-12T00:25:47.361Z"
   },
   {
    "duration": 1,
    "start_time": "2025-07-12T00:25:47.362Z"
   },
   {
    "duration": 0,
    "start_time": "2025-07-12T00:25:47.364Z"
   },
   {
    "duration": 0,
    "start_time": "2025-07-12T00:25:47.365Z"
   },
   {
    "duration": 0,
    "start_time": "2025-07-12T00:25:47.367Z"
   },
   {
    "duration": 0,
    "start_time": "2025-07-12T00:25:47.368Z"
   },
   {
    "duration": 0,
    "start_time": "2025-07-12T00:25:47.369Z"
   },
   {
    "duration": 0,
    "start_time": "2025-07-12T00:25:47.370Z"
   },
   {
    "duration": 0,
    "start_time": "2025-07-12T00:25:47.371Z"
   },
   {
    "duration": 3,
    "start_time": "2025-07-12T00:25:57.343Z"
   },
   {
    "duration": 8,
    "start_time": "2025-07-12T00:25:57.349Z"
   },
   {
    "duration": 5,
    "start_time": "2025-07-12T00:25:57.359Z"
   },
   {
    "duration": 7,
    "start_time": "2025-07-12T00:25:57.365Z"
   },
   {
    "duration": 3,
    "start_time": "2025-07-12T00:25:57.374Z"
   },
   {
    "duration": 6,
    "start_time": "2025-07-12T00:25:57.378Z"
   },
   {
    "duration": 10,
    "start_time": "2025-07-12T00:25:57.386Z"
   },
   {
    "duration": 34,
    "start_time": "2025-07-12T00:25:57.398Z"
   },
   {
    "duration": 149,
    "start_time": "2025-07-12T00:25:57.433Z"
   },
   {
    "duration": 180,
    "start_time": "2025-07-12T00:25:57.584Z"
   },
   {
    "duration": 3,
    "start_time": "2025-07-12T00:25:57.766Z"
   },
   {
    "duration": 4,
    "start_time": "2025-07-12T00:25:57.771Z"
   },
   {
    "duration": 16,
    "start_time": "2025-07-12T00:25:57.776Z"
   },
   {
    "duration": 0,
    "start_time": "2025-07-12T00:25:57.794Z"
   },
   {
    "duration": 0,
    "start_time": "2025-07-12T00:25:57.795Z"
   },
   {
    "duration": 0,
    "start_time": "2025-07-12T00:25:57.826Z"
   },
   {
    "duration": 0,
    "start_time": "2025-07-12T00:25:57.827Z"
   },
   {
    "duration": 0,
    "start_time": "2025-07-12T00:25:57.828Z"
   },
   {
    "duration": 0,
    "start_time": "2025-07-12T00:25:57.829Z"
   },
   {
    "duration": 0,
    "start_time": "2025-07-12T00:25:57.831Z"
   },
   {
    "duration": 0,
    "start_time": "2025-07-12T00:25:57.832Z"
   },
   {
    "duration": 0,
    "start_time": "2025-07-12T00:25:57.833Z"
   },
   {
    "duration": 0,
    "start_time": "2025-07-12T00:25:57.834Z"
   },
   {
    "duration": 18,
    "start_time": "2025-07-12T00:26:13.451Z"
   },
   {
    "duration": 53,
    "start_time": "2025-07-12T00:26:26.443Z"
   },
   {
    "duration": 3742,
    "start_time": "2025-07-12T23:42:43.646Z"
   },
   {
    "duration": 21,
    "start_time": "2025-07-12T23:42:47.391Z"
   },
   {
    "duration": 6,
    "start_time": "2025-07-12T23:42:47.413Z"
   },
   {
    "duration": 6,
    "start_time": "2025-07-12T23:42:47.420Z"
   },
   {
    "duration": 3,
    "start_time": "2025-07-12T23:42:47.429Z"
   },
   {
    "duration": 6,
    "start_time": "2025-07-12T23:42:47.434Z"
   },
   {
    "duration": 8,
    "start_time": "2025-07-12T23:42:47.442Z"
   },
   {
    "duration": 36,
    "start_time": "2025-07-12T23:42:47.452Z"
   },
   {
    "duration": 153,
    "start_time": "2025-07-12T23:42:47.490Z"
   },
   {
    "duration": 183,
    "start_time": "2025-07-12T23:42:47.645Z"
   },
   {
    "duration": 3,
    "start_time": "2025-07-12T23:42:47.830Z"
   },
   {
    "duration": 3,
    "start_time": "2025-07-12T23:42:47.835Z"
   },
   {
    "duration": 462,
    "start_time": "2025-07-12T23:42:47.840Z"
   },
   {
    "duration": 0,
    "start_time": "2025-07-12T23:42:48.304Z"
   },
   {
    "duration": 0,
    "start_time": "2025-07-12T23:42:48.306Z"
   },
   {
    "duration": 0,
    "start_time": "2025-07-12T23:42:48.307Z"
   },
   {
    "duration": 0,
    "start_time": "2025-07-12T23:42:48.309Z"
   },
   {
    "duration": 0,
    "start_time": "2025-07-12T23:42:48.310Z"
   },
   {
    "duration": 0,
    "start_time": "2025-07-12T23:42:48.311Z"
   },
   {
    "duration": 0,
    "start_time": "2025-07-12T23:42:48.313Z"
   },
   {
    "duration": 1,
    "start_time": "2025-07-12T23:42:48.314Z"
   },
   {
    "duration": 0,
    "start_time": "2025-07-12T23:42:48.316Z"
   },
   {
    "duration": 0,
    "start_time": "2025-07-12T23:42:48.317Z"
   },
   {
    "duration": 259,
    "start_time": "2025-07-12T23:45:39.898Z"
   },
   {
    "duration": 145,
    "start_time": "2025-07-12T23:46:00.943Z"
   },
   {
    "duration": 129,
    "start_time": "2025-07-12T23:52:57.780Z"
   },
   {
    "duration": 143,
    "start_time": "2025-07-12T23:54:07.747Z"
   },
   {
    "duration": 3,
    "start_time": "2025-07-12T23:54:32.810Z"
   },
   {
    "duration": 13,
    "start_time": "2025-07-12T23:54:32.815Z"
   },
   {
    "duration": 4,
    "start_time": "2025-07-12T23:54:32.830Z"
   },
   {
    "duration": 5,
    "start_time": "2025-07-12T23:54:32.836Z"
   },
   {
    "duration": 3,
    "start_time": "2025-07-12T23:54:32.843Z"
   },
   {
    "duration": 5,
    "start_time": "2025-07-12T23:54:32.848Z"
   },
   {
    "duration": 8,
    "start_time": "2025-07-12T23:54:32.855Z"
   },
   {
    "duration": 23,
    "start_time": "2025-07-12T23:54:32.865Z"
   },
   {
    "duration": 148,
    "start_time": "2025-07-12T23:54:32.890Z"
   },
   {
    "duration": 178,
    "start_time": "2025-07-12T23:54:33.040Z"
   },
   {
    "duration": 143,
    "start_time": "2025-07-12T23:54:33.221Z"
   },
   {
    "duration": 131,
    "start_time": "2025-07-12T23:54:33.366Z"
   },
   {
    "duration": 161,
    "start_time": "2025-07-12T23:54:33.499Z"
   },
   {
    "duration": 4,
    "start_time": "2025-07-12T23:54:33.662Z"
   },
   {
    "duration": 13433,
    "start_time": "2025-07-12T23:54:33.668Z"
   },
   {
    "duration": 3,
    "start_time": "2025-07-12T23:54:47.103Z"
   },
   {
    "duration": 4257,
    "start_time": "2025-07-12T23:54:47.108Z"
   },
   {
    "duration": 3,
    "start_time": "2025-07-12T23:54:51.367Z"
   },
   {
    "duration": 1657,
    "start_time": "2025-07-12T23:54:51.371Z"
   },
   {
    "duration": 4,
    "start_time": "2025-07-12T23:54:53.030Z"
   },
   {
    "duration": 1986,
    "start_time": "2025-07-13T00:00:44.725Z"
   },
   {
    "duration": 8,
    "start_time": "2025-07-13T00:00:46.713Z"
   },
   {
    "duration": 7,
    "start_time": "2025-07-13T00:00:46.723Z"
   },
   {
    "duration": 5,
    "start_time": "2025-07-13T00:00:46.733Z"
   },
   {
    "duration": 3,
    "start_time": "2025-07-13T00:00:46.740Z"
   },
   {
    "duration": 7,
    "start_time": "2025-07-13T00:00:46.745Z"
   },
   {
    "duration": 41,
    "start_time": "2025-07-13T00:00:46.754Z"
   },
   {
    "duration": 11,
    "start_time": "2025-07-13T00:00:46.796Z"
   },
   {
    "duration": 168,
    "start_time": "2025-07-13T00:00:46.808Z"
   },
   {
    "duration": 225,
    "start_time": "2025-07-13T00:00:46.978Z"
   },
   {
    "duration": 154,
    "start_time": "2025-07-13T00:00:47.206Z"
   },
   {
    "duration": 121,
    "start_time": "2025-07-13T00:00:47.363Z"
   },
   {
    "duration": 157,
    "start_time": "2025-07-13T00:00:47.489Z"
   },
   {
    "duration": 4,
    "start_time": "2025-07-13T00:00:47.648Z"
   },
   {
    "duration": 4293,
    "start_time": "2025-07-13T00:00:47.654Z"
   },
   {
    "duration": 5,
    "start_time": "2025-07-13T00:00:51.949Z"
   },
   {
    "duration": 49,
    "start_time": "2025-07-13T00:00:51.956Z"
   },
   {
    "duration": 3,
    "start_time": "2025-07-13T00:00:52.007Z"
   },
   {
    "duration": 1446,
    "start_time": "2025-07-13T00:00:52.012Z"
   },
   {
    "duration": 5,
    "start_time": "2025-07-13T00:00:53.460Z"
   },
   {
    "duration": 4,
    "start_time": "2025-07-13T00:00:53.466Z"
   },
   {
    "duration": 546,
    "start_time": "2025-07-13T00:00:53.472Z"
   },
   {
    "duration": 0,
    "start_time": "2025-07-13T00:00:54.019Z"
   },
   {
    "duration": 4,
    "start_time": "2025-07-13T00:01:25.918Z"
   },
   {
    "duration": 1959,
    "start_time": "2025-07-13T00:01:38.516Z"
   },
   {
    "duration": 14,
    "start_time": "2025-07-13T00:01:40.478Z"
   },
   {
    "duration": 6,
    "start_time": "2025-07-13T00:01:40.493Z"
   },
   {
    "duration": 5,
    "start_time": "2025-07-13T00:01:40.501Z"
   },
   {
    "duration": 4,
    "start_time": "2025-07-13T00:01:40.508Z"
   },
   {
    "duration": 7,
    "start_time": "2025-07-13T00:01:40.514Z"
   },
   {
    "duration": 9,
    "start_time": "2025-07-13T00:01:40.523Z"
   },
   {
    "duration": 9,
    "start_time": "2025-07-13T00:01:40.533Z"
   },
   {
    "duration": 188,
    "start_time": "2025-07-13T00:01:40.544Z"
   },
   {
    "duration": 180,
    "start_time": "2025-07-13T00:01:40.735Z"
   },
   {
    "duration": 159,
    "start_time": "2025-07-13T00:01:40.917Z"
   },
   {
    "duration": 122,
    "start_time": "2025-07-13T00:01:41.078Z"
   },
   {
    "duration": 163,
    "start_time": "2025-07-13T00:01:41.202Z"
   },
   {
    "duration": 4,
    "start_time": "2025-07-13T00:01:41.367Z"
   },
   {
    "duration": 4243,
    "start_time": "2025-07-13T00:01:41.374Z"
   },
   {
    "duration": 3,
    "start_time": "2025-07-13T00:01:45.619Z"
   },
   {
    "duration": 51,
    "start_time": "2025-07-13T00:01:45.624Z"
   },
   {
    "duration": 3,
    "start_time": "2025-07-13T00:01:45.677Z"
   },
   {
    "duration": 1427,
    "start_time": "2025-07-13T00:01:45.682Z"
   },
   {
    "duration": 4,
    "start_time": "2025-07-13T00:01:47.110Z"
   },
   {
    "duration": 5,
    "start_time": "2025-07-13T00:01:47.115Z"
   },
   {
    "duration": 3571,
    "start_time": "2025-07-13T01:17:10.626Z"
   },
   {
    "duration": 18,
    "start_time": "2025-07-13T01:17:14.199Z"
   },
   {
    "duration": 6,
    "start_time": "2025-07-13T01:17:14.220Z"
   },
   {
    "duration": 5,
    "start_time": "2025-07-13T01:17:14.229Z"
   },
   {
    "duration": 3,
    "start_time": "2025-07-13T01:17:14.236Z"
   },
   {
    "duration": 6,
    "start_time": "2025-07-13T01:17:14.241Z"
   },
   {
    "duration": 8,
    "start_time": "2025-07-13T01:17:14.250Z"
   },
   {
    "duration": 32,
    "start_time": "2025-07-13T01:17:14.260Z"
   },
   {
    "duration": 249,
    "start_time": "2025-07-13T01:17:14.294Z"
   },
   {
    "duration": 187,
    "start_time": "2025-07-13T01:17:14.546Z"
   },
   {
    "duration": 196,
    "start_time": "2025-07-13T01:17:14.735Z"
   },
   {
    "duration": 124,
    "start_time": "2025-07-13T01:17:14.933Z"
   },
   {
    "duration": 157,
    "start_time": "2025-07-13T01:17:15.059Z"
   },
   {
    "duration": 4,
    "start_time": "2025-07-13T01:17:15.218Z"
   },
   {
    "duration": 15340,
    "start_time": "2025-07-13T01:17:15.224Z"
   },
   {
    "duration": 3,
    "start_time": "2025-07-13T01:17:30.566Z"
   },
   {
    "duration": 5024,
    "start_time": "2025-07-13T01:17:30.570Z"
   },
   {
    "duration": 3,
    "start_time": "2025-07-13T01:17:35.596Z"
   },
   {
    "duration": 2206,
    "start_time": "2025-07-13T01:17:35.601Z"
   },
   {
    "duration": 5,
    "start_time": "2025-07-13T01:17:37.809Z"
   },
   {
    "duration": 530,
    "start_time": "2025-07-13T01:17:37.815Z"
   },
   {
    "duration": 0,
    "start_time": "2025-07-13T01:17:38.347Z"
   },
   {
    "duration": 158,
    "start_time": "2025-07-13T02:09:58.553Z"
   },
   {
    "duration": 142,
    "start_time": "2025-07-13T02:10:11.194Z"
   },
   {
    "duration": 177,
    "start_time": "2025-07-13T02:10:33.834Z"
   },
   {
    "duration": 3,
    "start_time": "2025-07-13T02:17:03.392Z"
   },
   {
    "duration": 1920,
    "start_time": "2025-07-13T02:24:45.624Z"
   },
   {
    "duration": 9,
    "start_time": "2025-07-13T02:24:47.546Z"
   },
   {
    "duration": 8,
    "start_time": "2025-07-13T02:24:47.556Z"
   },
   {
    "duration": 21,
    "start_time": "2025-07-13T02:24:47.566Z"
   },
   {
    "duration": 5,
    "start_time": "2025-07-13T02:24:47.588Z"
   },
   {
    "duration": 3,
    "start_time": "2025-07-13T02:24:47.595Z"
   },
   {
    "duration": 8,
    "start_time": "2025-07-13T02:24:47.600Z"
   },
   {
    "duration": 10,
    "start_time": "2025-07-13T02:24:47.609Z"
   },
   {
    "duration": 179,
    "start_time": "2025-07-13T02:24:47.620Z"
   },
   {
    "duration": 3,
    "start_time": "2025-07-13T02:24:47.802Z"
   },
   {
    "duration": 198,
    "start_time": "2025-07-13T02:24:47.806Z"
   },
   {
    "duration": 165,
    "start_time": "2025-07-13T02:24:48.006Z"
   },
   {
    "duration": 122,
    "start_time": "2025-07-13T02:24:48.173Z"
   },
   {
    "duration": 153,
    "start_time": "2025-07-13T02:24:48.296Z"
   },
   {
    "duration": 5,
    "start_time": "2025-07-13T02:24:48.451Z"
   },
   {
    "duration": 11460,
    "start_time": "2025-07-13T02:24:48.457Z"
   },
   {
    "duration": 4,
    "start_time": "2025-07-13T02:24:59.918Z"
   },
   {
    "duration": 51,
    "start_time": "2025-07-13T02:24:59.923Z"
   },
   {
    "duration": 3,
    "start_time": "2025-07-13T02:24:59.976Z"
   },
   {
    "duration": 1456,
    "start_time": "2025-07-13T02:24:59.981Z"
   },
   {
    "duration": 5,
    "start_time": "2025-07-13T02:25:01.439Z"
   },
   {
    "duration": 1928,
    "start_time": "2025-07-13T02:25:39.736Z"
   },
   {
    "duration": 8,
    "start_time": "2025-07-13T02:25:41.665Z"
   },
   {
    "duration": 15,
    "start_time": "2025-07-13T02:25:41.675Z"
   },
   {
    "duration": 5,
    "start_time": "2025-07-13T02:25:41.692Z"
   },
   {
    "duration": 6,
    "start_time": "2025-07-13T02:25:41.698Z"
   },
   {
    "duration": 3,
    "start_time": "2025-07-13T02:25:41.705Z"
   },
   {
    "duration": 8,
    "start_time": "2025-07-13T02:25:41.710Z"
   },
   {
    "duration": 9,
    "start_time": "2025-07-13T02:25:41.719Z"
   },
   {
    "duration": 181,
    "start_time": "2025-07-13T02:25:41.730Z"
   },
   {
    "duration": 2,
    "start_time": "2025-07-13T02:25:41.913Z"
   },
   {
    "duration": 196,
    "start_time": "2025-07-13T02:25:41.917Z"
   },
   {
    "duration": 160,
    "start_time": "2025-07-13T02:25:42.115Z"
   },
   {
    "duration": 122,
    "start_time": "2025-07-13T02:25:42.279Z"
   },
   {
    "duration": 155,
    "start_time": "2025-07-13T02:25:42.402Z"
   },
   {
    "duration": 3,
    "start_time": "2025-07-13T02:25:42.559Z"
   },
   {
    "duration": 4765,
    "start_time": "2025-07-13T02:25:42.564Z"
   },
   {
    "duration": 3,
    "start_time": "2025-07-13T02:25:47.331Z"
   },
   {
    "duration": 50,
    "start_time": "2025-07-13T02:25:47.336Z"
   },
   {
    "duration": 4,
    "start_time": "2025-07-13T02:25:47.388Z"
   },
   {
    "duration": 1447,
    "start_time": "2025-07-13T02:25:47.393Z"
   },
   {
    "duration": 5,
    "start_time": "2025-07-13T02:25:48.842Z"
   },
   {
    "duration": 1955,
    "start_time": "2025-07-13T02:53:10.086Z"
   },
   {
    "duration": 11,
    "start_time": "2025-07-13T02:53:12.043Z"
   },
   {
    "duration": 11,
    "start_time": "2025-07-13T02:53:12.056Z"
   },
   {
    "duration": 18,
    "start_time": "2025-07-13T02:53:12.069Z"
   },
   {
    "duration": 5,
    "start_time": "2025-07-13T02:53:12.089Z"
   },
   {
    "duration": 3,
    "start_time": "2025-07-13T02:53:12.096Z"
   },
   {
    "duration": 8,
    "start_time": "2025-07-13T02:53:12.100Z"
   },
   {
    "duration": 8,
    "start_time": "2025-07-13T02:53:12.111Z"
   },
   {
    "duration": 174,
    "start_time": "2025-07-13T02:53:12.121Z"
   },
   {
    "duration": 2,
    "start_time": "2025-07-13T02:53:12.296Z"
   },
   {
    "duration": 207,
    "start_time": "2025-07-13T02:53:12.300Z"
   },
   {
    "duration": 174,
    "start_time": "2025-07-13T02:53:12.509Z"
   },
   {
    "duration": 123,
    "start_time": "2025-07-13T02:53:12.684Z"
   },
   {
    "duration": 544,
    "start_time": "2025-07-13T02:53:12.811Z"
   },
   {
    "duration": 0,
    "start_time": "2025-07-13T02:53:13.356Z"
   },
   {
    "duration": 0,
    "start_time": "2025-07-13T02:53:13.358Z"
   },
   {
    "duration": 0,
    "start_time": "2025-07-13T02:53:13.359Z"
   },
   {
    "duration": 0,
    "start_time": "2025-07-13T02:53:13.361Z"
   },
   {
    "duration": 0,
    "start_time": "2025-07-13T02:53:13.362Z"
   },
   {
    "duration": 0,
    "start_time": "2025-07-13T02:53:13.364Z"
   },
   {
    "duration": 0,
    "start_time": "2025-07-13T02:53:13.365Z"
   },
   {
    "duration": 0,
    "start_time": "2025-07-13T02:53:13.366Z"
   },
   {
    "duration": 0,
    "start_time": "2025-07-13T02:53:13.367Z"
   },
   {
    "duration": 0,
    "start_time": "2025-07-13T02:53:13.368Z"
   },
   {
    "duration": 1919,
    "start_time": "2025-07-13T02:53:39.260Z"
   },
   {
    "duration": 12,
    "start_time": "2025-07-13T02:53:41.181Z"
   },
   {
    "duration": 7,
    "start_time": "2025-07-13T02:53:41.195Z"
   },
   {
    "duration": 4,
    "start_time": "2025-07-13T02:53:41.204Z"
   },
   {
    "duration": 5,
    "start_time": "2025-07-13T02:53:41.210Z"
   },
   {
    "duration": 3,
    "start_time": "2025-07-13T02:53:41.216Z"
   },
   {
    "duration": 9,
    "start_time": "2025-07-13T02:53:41.221Z"
   },
   {
    "duration": 9,
    "start_time": "2025-07-13T02:53:41.231Z"
   },
   {
    "duration": 192,
    "start_time": "2025-07-13T02:53:41.241Z"
   },
   {
    "duration": 1,
    "start_time": "2025-07-13T02:53:41.438Z"
   },
   {
    "duration": 181,
    "start_time": "2025-07-13T02:53:41.441Z"
   },
   {
    "duration": 167,
    "start_time": "2025-07-13T02:53:41.624Z"
   },
   {
    "duration": 121,
    "start_time": "2025-07-13T02:53:41.793Z"
   },
   {
    "duration": 166,
    "start_time": "2025-07-13T02:53:41.916Z"
   },
   {
    "duration": 5,
    "start_time": "2025-07-13T02:53:42.084Z"
   },
   {
    "duration": 0,
    "start_time": "2025-07-13T02:53:42.091Z"
   },
   {
    "duration": 0,
    "start_time": "2025-07-13T02:53:42.092Z"
   },
   {
    "duration": 0,
    "start_time": "2025-07-13T02:53:42.094Z"
   },
   {
    "duration": 0,
    "start_time": "2025-07-13T02:53:42.095Z"
   },
   {
    "duration": 0,
    "start_time": "2025-07-13T02:53:42.097Z"
   },
   {
    "duration": 0,
    "start_time": "2025-07-13T02:53:42.098Z"
   },
   {
    "duration": 0,
    "start_time": "2025-07-13T02:53:42.100Z"
   },
   {
    "duration": 0,
    "start_time": "2025-07-13T02:53:42.101Z"
   },
   {
    "duration": 0,
    "start_time": "2025-07-13T02:53:42.103Z"
   },
   {
    "duration": 1903,
    "start_time": "2025-07-13T02:54:14.053Z"
   },
   {
    "duration": 9,
    "start_time": "2025-07-13T02:54:15.959Z"
   },
   {
    "duration": 16,
    "start_time": "2025-07-13T02:54:15.970Z"
   },
   {
    "duration": 5,
    "start_time": "2025-07-13T02:54:15.988Z"
   },
   {
    "duration": 6,
    "start_time": "2025-07-13T02:54:15.995Z"
   },
   {
    "duration": 3,
    "start_time": "2025-07-13T02:54:16.003Z"
   },
   {
    "duration": 8,
    "start_time": "2025-07-13T02:54:16.008Z"
   },
   {
    "duration": 9,
    "start_time": "2025-07-13T02:54:16.018Z"
   },
   {
    "duration": 199,
    "start_time": "2025-07-13T02:54:16.029Z"
   },
   {
    "duration": 2,
    "start_time": "2025-07-13T02:54:16.231Z"
   },
   {
    "duration": 191,
    "start_time": "2025-07-13T02:54:16.235Z"
   },
   {
    "duration": 211,
    "start_time": "2025-07-13T02:54:16.428Z"
   },
   {
    "duration": 122,
    "start_time": "2025-07-13T02:54:16.641Z"
   },
   {
    "duration": 163,
    "start_time": "2025-07-13T02:54:16.764Z"
   },
   {
    "duration": 4,
    "start_time": "2025-07-13T02:54:16.928Z"
   },
   {
    "duration": 11582,
    "start_time": "2025-07-13T02:54:16.933Z"
   },
   {
    "duration": 4,
    "start_time": "2025-07-13T02:54:28.517Z"
   },
   {
    "duration": 51,
    "start_time": "2025-07-13T02:54:28.523Z"
   },
   {
    "duration": 3,
    "start_time": "2025-07-13T02:54:28.576Z"
   },
   {
    "duration": 1473,
    "start_time": "2025-07-13T02:54:28.580Z"
   },
   {
    "duration": 4,
    "start_time": "2025-07-13T02:54:30.055Z"
   },
   {
    "duration": 3676,
    "start_time": "2025-07-14T23:39:15.421Z"
   },
   {
    "duration": 19,
    "start_time": "2025-07-14T23:39:19.099Z"
   },
   {
    "duration": 8,
    "start_time": "2025-07-14T23:39:19.119Z"
   },
   {
    "duration": 5,
    "start_time": "2025-07-14T23:39:19.129Z"
   },
   {
    "duration": 6,
    "start_time": "2025-07-14T23:39:19.136Z"
   },
   {
    "duration": 3,
    "start_time": "2025-07-14T23:39:19.143Z"
   },
   {
    "duration": 9,
    "start_time": "2025-07-14T23:39:19.147Z"
   },
   {
    "duration": 30,
    "start_time": "2025-07-14T23:39:19.157Z"
   },
   {
    "duration": 159,
    "start_time": "2025-07-14T23:39:19.189Z"
   },
   {
    "duration": 2,
    "start_time": "2025-07-14T23:39:19.350Z"
   },
   {
    "duration": 240,
    "start_time": "2025-07-14T23:39:19.354Z"
   },
   {
    "duration": 159,
    "start_time": "2025-07-14T23:39:19.596Z"
   },
   {
    "duration": 126,
    "start_time": "2025-07-14T23:39:19.757Z"
   },
   {
    "duration": 160,
    "start_time": "2025-07-14T23:39:19.886Z"
   },
   {
    "duration": 4,
    "start_time": "2025-07-14T23:39:20.048Z"
   },
   {
    "duration": 15622,
    "start_time": "2025-07-14T23:39:20.054Z"
   },
   {
    "duration": 3,
    "start_time": "2025-07-14T23:39:35.679Z"
   },
   {
    "duration": 4955,
    "start_time": "2025-07-14T23:39:35.684Z"
   },
   {
    "duration": 3,
    "start_time": "2025-07-14T23:39:40.641Z"
   },
   {
    "duration": 1675,
    "start_time": "2025-07-14T23:39:40.646Z"
   },
   {
    "duration": 4,
    "start_time": "2025-07-14T23:39:42.322Z"
   },
   {
    "duration": 3973,
    "start_time": "2025-07-15T00:20:04.424Z"
   },
   {
    "duration": 17,
    "start_time": "2025-07-15T00:20:08.400Z"
   },
   {
    "duration": 9,
    "start_time": "2025-07-15T00:20:08.418Z"
   },
   {
    "duration": 6,
    "start_time": "2025-07-15T00:20:08.429Z"
   },
   {
    "duration": 6,
    "start_time": "2025-07-15T00:20:08.436Z"
   },
   {
    "duration": 3,
    "start_time": "2025-07-15T00:20:08.444Z"
   },
   {
    "duration": 8,
    "start_time": "2025-07-15T00:20:08.449Z"
   },
   {
    "duration": 11,
    "start_time": "2025-07-15T00:20:08.487Z"
   },
   {
    "duration": 169,
    "start_time": "2025-07-15T00:20:08.500Z"
   },
   {
    "duration": 4,
    "start_time": "2025-07-15T00:20:08.672Z"
   },
   {
    "duration": 241,
    "start_time": "2025-07-15T00:20:08.678Z"
   },
   {
    "duration": 166,
    "start_time": "2025-07-15T00:20:08.921Z"
   },
   {
    "duration": 129,
    "start_time": "2025-07-15T00:20:09.089Z"
   },
   {
    "duration": 161,
    "start_time": "2025-07-15T00:20:09.220Z"
   },
   {
    "duration": 4,
    "start_time": "2025-07-15T00:20:09.383Z"
   },
   {
    "duration": 14834,
    "start_time": "2025-07-15T00:20:09.388Z"
   },
   {
    "duration": 4,
    "start_time": "2025-07-15T00:20:24.224Z"
   },
   {
    "duration": 3430,
    "start_time": "2025-07-15T00:20:24.230Z"
   },
   {
    "duration": 4,
    "start_time": "2025-07-15T00:20:27.662Z"
   },
   {
    "duration": 2088,
    "start_time": "2025-07-15T00:20:27.668Z"
   },
   {
    "duration": 4,
    "start_time": "2025-07-15T00:20:29.758Z"
   },
   {
    "duration": 28781,
    "start_time": "2025-07-15T01:12:32.246Z"
   },
   {
    "duration": 2164,
    "start_time": "2025-07-15T01:13:01.029Z"
   },
   {
    "duration": 13,
    "start_time": "2025-07-15T01:13:03.196Z"
   },
   {
    "duration": 13,
    "start_time": "2025-07-15T01:13:03.213Z"
   },
   {
    "duration": 6,
    "start_time": "2025-07-15T01:13:03.227Z"
   },
   {
    "duration": 7,
    "start_time": "2025-07-15T01:13:03.234Z"
   },
   {
    "duration": 5,
    "start_time": "2025-07-15T01:13:03.242Z"
   },
   {
    "duration": 8,
    "start_time": "2025-07-15T01:13:03.249Z"
   },
   {
    "duration": 36,
    "start_time": "2025-07-15T01:13:03.258Z"
   },
   {
    "duration": 195,
    "start_time": "2025-07-15T01:13:03.296Z"
   },
   {
    "duration": 8,
    "start_time": "2025-07-15T01:13:03.493Z"
   },
   {
    "duration": 221,
    "start_time": "2025-07-15T01:13:03.503Z"
   },
   {
    "duration": 195,
    "start_time": "2025-07-15T01:13:03.728Z"
   },
   {
    "duration": 132,
    "start_time": "2025-07-15T01:13:03.925Z"
   },
   {
    "duration": 175,
    "start_time": "2025-07-15T01:13:04.059Z"
   },
   {
    "duration": 4,
    "start_time": "2025-07-15T01:13:04.236Z"
   },
   {
    "duration": 922,
    "start_time": "2025-07-15T01:13:04.242Z"
   },
   {
    "duration": 3,
    "start_time": "2025-07-15T01:13:05.166Z"
   },
   {
    "duration": 120,
    "start_time": "2025-07-15T01:13:05.171Z"
   },
   {
    "duration": 6,
    "start_time": "2025-07-15T01:13:05.293Z"
   },
   {
    "duration": 1620,
    "start_time": "2025-07-15T01:13:05.303Z"
   },
   {
    "duration": 5,
    "start_time": "2025-07-15T01:13:06.924Z"
   },
   {
    "duration": 780580,
    "start_time": "2025-07-15T01:13:06.930Z"
   },
   {
    "duration": 0,
    "start_time": "2025-07-15T01:26:07.512Z"
   },
   {
    "duration": 0,
    "start_time": "2025-07-15T01:26:07.513Z"
   },
   {
    "duration": 1871,
    "start_time": "2025-07-15T01:26:13.881Z"
   },
   {
    "duration": 10,
    "start_time": "2025-07-15T01:26:15.754Z"
   },
   {
    "duration": 10,
    "start_time": "2025-07-15T01:26:20.344Z"
   },
   {
    "duration": 44,
    "start_time": "2025-07-15T01:26:41.285Z"
   },
   {
    "duration": 3499,
    "start_time": "2025-07-16T06:09:19.639Z"
   },
   {
    "duration": 11,
    "start_time": "2025-07-16T06:09:23.141Z"
   },
   {
    "duration": 73,
    "start_time": "2025-07-16T06:09:23.154Z"
   },
   {
    "duration": 7,
    "start_time": "2025-07-16T06:09:23.230Z"
   },
   {
    "duration": 5,
    "start_time": "2025-07-16T06:09:23.238Z"
   },
   {
    "duration": 5,
    "start_time": "2025-07-16T06:09:23.245Z"
   },
   {
    "duration": 4,
    "start_time": "2025-07-16T06:09:23.251Z"
   },
   {
    "duration": 9,
    "start_time": "2025-07-16T06:09:23.256Z"
   },
   {
    "duration": 9,
    "start_time": "2025-07-16T06:09:23.266Z"
   },
   {
    "duration": 256,
    "start_time": "2025-07-16T06:09:23.278Z"
   },
   {
    "duration": 2,
    "start_time": "2025-07-16T06:09:23.536Z"
   },
   {
    "duration": 239,
    "start_time": "2025-07-16T06:09:23.540Z"
   },
   {
    "duration": 154,
    "start_time": "2025-07-16T06:09:23.781Z"
   },
   {
    "duration": 123,
    "start_time": "2025-07-16T06:09:23.936Z"
   },
   {
    "duration": 163,
    "start_time": "2025-07-16T06:09:24.061Z"
   },
   {
    "duration": 4,
    "start_time": "2025-07-16T06:09:24.226Z"
   },
   {
    "duration": 9361,
    "start_time": "2025-07-16T06:09:24.231Z"
   },
   {
    "duration": 4,
    "start_time": "2025-07-16T06:09:33.595Z"
   },
   {
    "duration": 3881,
    "start_time": "2025-07-16T06:09:33.600Z"
   },
   {
    "duration": 4,
    "start_time": "2025-07-16T06:09:37.482Z"
   },
   {
    "duration": 4734,
    "start_time": "2025-07-16T06:09:37.487Z"
   },
   {
    "duration": 4,
    "start_time": "2025-07-16T06:09:42.223Z"
   },
   {
    "duration": 3675,
    "start_time": "2025-07-17T23:28:23.920Z"
   },
   {
    "duration": 20,
    "start_time": "2025-07-17T23:28:27.597Z"
   },
   {
    "duration": 63,
    "start_time": "2025-07-17T23:28:27.618Z"
   },
   {
    "duration": 8,
    "start_time": "2025-07-17T23:28:27.683Z"
   },
   {
    "duration": 4,
    "start_time": "2025-07-17T23:28:27.693Z"
   },
   {
    "duration": 6,
    "start_time": "2025-07-17T23:28:27.699Z"
   },
   {
    "duration": 3,
    "start_time": "2025-07-17T23:28:27.706Z"
   },
   {
    "duration": 8,
    "start_time": "2025-07-17T23:28:27.711Z"
   },
   {
    "duration": 9,
    "start_time": "2025-07-17T23:28:27.721Z"
   },
   {
    "duration": 183,
    "start_time": "2025-07-17T23:28:27.732Z"
   },
   {
    "duration": 2,
    "start_time": "2025-07-17T23:28:27.917Z"
   },
   {
    "duration": 205,
    "start_time": "2025-07-17T23:28:27.921Z"
   },
   {
    "duration": 179,
    "start_time": "2025-07-17T23:28:28.128Z"
   },
   {
    "duration": 127,
    "start_time": "2025-07-17T23:28:28.311Z"
   },
   {
    "duration": 166,
    "start_time": "2025-07-17T23:28:28.440Z"
   },
   {
    "duration": 5,
    "start_time": "2025-07-17T23:28:28.608Z"
   },
   {
    "duration": 15669,
    "start_time": "2025-07-17T23:28:28.615Z"
   },
   {
    "duration": 6,
    "start_time": "2025-07-17T23:28:44.285Z"
   },
   {
    "duration": 4366,
    "start_time": "2025-07-17T23:28:44.292Z"
   },
   {
    "duration": 3,
    "start_time": "2025-07-17T23:28:48.660Z"
   },
   {
    "duration": 1726,
    "start_time": "2025-07-17T23:28:48.665Z"
   },
   {
    "duration": 5,
    "start_time": "2025-07-17T23:28:50.392Z"
   }
  ],
  "kernelspec": {
   "display_name": "Python 3 (ipykernel)",
   "language": "python",
   "name": "python3"
  },
  "language_info": {
   "codemirror_mode": {
    "name": "ipython",
    "version": 3
   },
   "file_extension": ".py",
   "mimetype": "text/x-python",
   "name": "python",
   "nbconvert_exporter": "python",
   "pygments_lexer": "ipython3",
   "version": "3.9.23"
  },
  "toc": {
   "base_numbering": 1,
   "nav_menu": {},
   "number_sections": true,
   "sideBar": true,
   "skip_h1_title": true,
   "title_cell": "Table of Contents",
   "title_sidebar": "Contents",
   "toc_cell": false,
   "toc_position": {},
   "toc_section_display": true,
   "toc_window_display": false
  }
 },
 "nbformat": 4,
 "nbformat_minor": 4
}
